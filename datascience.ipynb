{
  "nbformat": 4,
  "nbformat_minor": 0,
  "metadata": {
    "colab": {
      "provenance": []
    },
    "kernelspec": {
      "name": "python3",
      "display_name": "Python 3"
    },
    "language_info": {
      "name": "python"
    }
  },
  "cells": [
    {
      "cell_type": "code",
      "execution_count": null,
      "metadata": {
        "id": "zrYb23v51eku"
      },
      "outputs": [],
      "source": [
        "import pandas as pd"
      ]
    },
    {
      "cell_type": "markdown",
      "source": [
        "**Load** **the** **Dataset**"
      ],
      "metadata": {
        "id": "7W3O5vE-SulE"
      }
    },
    {
      "cell_type": "code",
      "source": [
        "fakenews_ds = pd.read_csv('/content/sample_data/data.csv')\n",
        "fakenews_ds.head()"
      ],
      "metadata": {
        "colab": {
          "base_uri": "https://localhost:8080/",
          "height": 206
        },
        "id": "7MbCIW7Y2a3Z",
        "outputId": "6333f416-78c0-4092-f856-20381fd771ff"
      },
      "execution_count": null,
      "outputs": [
        {
          "output_type": "execute_result",
          "data": {
            "text/plain": [
              "                                                URLs  \\\n",
              "0  http://www.bbc.com/news/world-us-canada-414191...   \n",
              "1  https://www.reuters.com/article/us-filmfestiva...   \n",
              "2  https://www.nytimes.com/2017/10/09/us/politics...   \n",
              "3  https://www.reuters.com/article/us-mexico-oil-...   \n",
              "4  http://www.cnn.com/videos/cnnmoney/2017/10/08/...   \n",
              "\n",
              "                                            Headline  \\\n",
              "0         Four ways Bob Corker skewered Donald Trump   \n",
              "1  Linklater's war veteran comedy speaks to moder...   \n",
              "2  Trump’s Fight With Corker Jeopardizes His Legi...   \n",
              "3  Egypt's Cheiron wins tie-up with Pemex for Mex...   \n",
              "4        Jason Aldean opens 'SNL' with Vegas tribute   \n",
              "\n",
              "                                                Body  Label  \n",
              "0  Image copyright Getty Images\\nOn Sunday mornin...      1  \n",
              "1  LONDON (Reuters) - “Last Flag Flying”, a comed...      1  \n",
              "2  The feud broke into public view last week when...      1  \n",
              "3  MEXICO CITY (Reuters) - Egypt’s Cheiron Holdin...      1  \n",
              "4  Country singer Jason Aldean, who was performin...      1  "
            ],
            "text/html": [
              "\n",
              "  <div id=\"df-6459aa6a-77c0-49ff-9bd7-f5a134150cf0\" class=\"colab-df-container\">\n",
              "    <div>\n",
              "<style scoped>\n",
              "    .dataframe tbody tr th:only-of-type {\n",
              "        vertical-align: middle;\n",
              "    }\n",
              "\n",
              "    .dataframe tbody tr th {\n",
              "        vertical-align: top;\n",
              "    }\n",
              "\n",
              "    .dataframe thead th {\n",
              "        text-align: right;\n",
              "    }\n",
              "</style>\n",
              "<table border=\"1\" class=\"dataframe\">\n",
              "  <thead>\n",
              "    <tr style=\"text-align: right;\">\n",
              "      <th></th>\n",
              "      <th>URLs</th>\n",
              "      <th>Headline</th>\n",
              "      <th>Body</th>\n",
              "      <th>Label</th>\n",
              "    </tr>\n",
              "  </thead>\n",
              "  <tbody>\n",
              "    <tr>\n",
              "      <th>0</th>\n",
              "      <td>http://www.bbc.com/news/world-us-canada-414191...</td>\n",
              "      <td>Four ways Bob Corker skewered Donald Trump</td>\n",
              "      <td>Image copyright Getty Images\\nOn Sunday mornin...</td>\n",
              "      <td>1</td>\n",
              "    </tr>\n",
              "    <tr>\n",
              "      <th>1</th>\n",
              "      <td>https://www.reuters.com/article/us-filmfestiva...</td>\n",
              "      <td>Linklater's war veteran comedy speaks to moder...</td>\n",
              "      <td>LONDON (Reuters) - “Last Flag Flying”, a comed...</td>\n",
              "      <td>1</td>\n",
              "    </tr>\n",
              "    <tr>\n",
              "      <th>2</th>\n",
              "      <td>https://www.nytimes.com/2017/10/09/us/politics...</td>\n",
              "      <td>Trump’s Fight With Corker Jeopardizes His Legi...</td>\n",
              "      <td>The feud broke into public view last week when...</td>\n",
              "      <td>1</td>\n",
              "    </tr>\n",
              "    <tr>\n",
              "      <th>3</th>\n",
              "      <td>https://www.reuters.com/article/us-mexico-oil-...</td>\n",
              "      <td>Egypt's Cheiron wins tie-up with Pemex for Mex...</td>\n",
              "      <td>MEXICO CITY (Reuters) - Egypt’s Cheiron Holdin...</td>\n",
              "      <td>1</td>\n",
              "    </tr>\n",
              "    <tr>\n",
              "      <th>4</th>\n",
              "      <td>http://www.cnn.com/videos/cnnmoney/2017/10/08/...</td>\n",
              "      <td>Jason Aldean opens 'SNL' with Vegas tribute</td>\n",
              "      <td>Country singer Jason Aldean, who was performin...</td>\n",
              "      <td>1</td>\n",
              "    </tr>\n",
              "  </tbody>\n",
              "</table>\n",
              "</div>\n",
              "    <div class=\"colab-df-buttons\">\n",
              "\n",
              "  <div class=\"colab-df-container\">\n",
              "    <button class=\"colab-df-convert\" onclick=\"convertToInteractive('df-6459aa6a-77c0-49ff-9bd7-f5a134150cf0')\"\n",
              "            title=\"Convert this dataframe to an interactive table.\"\n",
              "            style=\"display:none;\">\n",
              "\n",
              "  <svg xmlns=\"http://www.w3.org/2000/svg\" height=\"24px\" viewBox=\"0 -960 960 960\">\n",
              "    <path d=\"M120-120v-720h720v720H120Zm60-500h600v-160H180v160Zm220 220h160v-160H400v160Zm0 220h160v-160H400v160ZM180-400h160v-160H180v160Zm440 0h160v-160H620v160ZM180-180h160v-160H180v160Zm440 0h160v-160H620v160Z\"/>\n",
              "  </svg>\n",
              "    </button>\n",
              "\n",
              "  <style>\n",
              "    .colab-df-container {\n",
              "      display:flex;\n",
              "      gap: 12px;\n",
              "    }\n",
              "\n",
              "    .colab-df-convert {\n",
              "      background-color: #E8F0FE;\n",
              "      border: none;\n",
              "      border-radius: 50%;\n",
              "      cursor: pointer;\n",
              "      display: none;\n",
              "      fill: #1967D2;\n",
              "      height: 32px;\n",
              "      padding: 0 0 0 0;\n",
              "      width: 32px;\n",
              "    }\n",
              "\n",
              "    .colab-df-convert:hover {\n",
              "      background-color: #E2EBFA;\n",
              "      box-shadow: 0px 1px 2px rgba(60, 64, 67, 0.3), 0px 1px 3px 1px rgba(60, 64, 67, 0.15);\n",
              "      fill: #174EA6;\n",
              "    }\n",
              "\n",
              "    .colab-df-buttons div {\n",
              "      margin-bottom: 4px;\n",
              "    }\n",
              "\n",
              "    [theme=dark] .colab-df-convert {\n",
              "      background-color: #3B4455;\n",
              "      fill: #D2E3FC;\n",
              "    }\n",
              "\n",
              "    [theme=dark] .colab-df-convert:hover {\n",
              "      background-color: #434B5C;\n",
              "      box-shadow: 0px 1px 3px 1px rgba(0, 0, 0, 0.15);\n",
              "      filter: drop-shadow(0px 1px 2px rgba(0, 0, 0, 0.3));\n",
              "      fill: #FFFFFF;\n",
              "    }\n",
              "  </style>\n",
              "\n",
              "    <script>\n",
              "      const buttonEl =\n",
              "        document.querySelector('#df-6459aa6a-77c0-49ff-9bd7-f5a134150cf0 button.colab-df-convert');\n",
              "      buttonEl.style.display =\n",
              "        google.colab.kernel.accessAllowed ? 'block' : 'none';\n",
              "\n",
              "      async function convertToInteractive(key) {\n",
              "        const element = document.querySelector('#df-6459aa6a-77c0-49ff-9bd7-f5a134150cf0');\n",
              "        const dataTable =\n",
              "          await google.colab.kernel.invokeFunction('convertToInteractive',\n",
              "                                                    [key], {});\n",
              "        if (!dataTable) return;\n",
              "\n",
              "        const docLinkHtml = 'Like what you see? Visit the ' +\n",
              "          '<a target=\"_blank\" href=https://colab.research.google.com/notebooks/data_table.ipynb>data table notebook</a>'\n",
              "          + ' to learn more about interactive tables.';\n",
              "        element.innerHTML = '';\n",
              "        dataTable['output_type'] = 'display_data';\n",
              "        await google.colab.output.renderOutput(dataTable, element);\n",
              "        const docLink = document.createElement('div');\n",
              "        docLink.innerHTML = docLinkHtml;\n",
              "        element.appendChild(docLink);\n",
              "      }\n",
              "    </script>\n",
              "  </div>\n",
              "\n",
              "\n",
              "<div id=\"df-5bf22a2d-2372-4742-8789-c749aa7e29c8\">\n",
              "  <button class=\"colab-df-quickchart\" onclick=\"quickchart('df-5bf22a2d-2372-4742-8789-c749aa7e29c8')\"\n",
              "            title=\"Suggest charts\"\n",
              "            style=\"display:none;\">\n",
              "\n",
              "<svg xmlns=\"http://www.w3.org/2000/svg\" height=\"24px\"viewBox=\"0 0 24 24\"\n",
              "     width=\"24px\">\n",
              "    <g>\n",
              "        <path d=\"M19 3H5c-1.1 0-2 .9-2 2v14c0 1.1.9 2 2 2h14c1.1 0 2-.9 2-2V5c0-1.1-.9-2-2-2zM9 17H7v-7h2v7zm4 0h-2V7h2v10zm4 0h-2v-4h2v4z\"/>\n",
              "    </g>\n",
              "</svg>\n",
              "  </button>\n",
              "\n",
              "<style>\n",
              "  .colab-df-quickchart {\n",
              "      --bg-color: #E8F0FE;\n",
              "      --fill-color: #1967D2;\n",
              "      --hover-bg-color: #E2EBFA;\n",
              "      --hover-fill-color: #174EA6;\n",
              "      --disabled-fill-color: #AAA;\n",
              "      --disabled-bg-color: #DDD;\n",
              "  }\n",
              "\n",
              "  [theme=dark] .colab-df-quickchart {\n",
              "      --bg-color: #3B4455;\n",
              "      --fill-color: #D2E3FC;\n",
              "      --hover-bg-color: #434B5C;\n",
              "      --hover-fill-color: #FFFFFF;\n",
              "      --disabled-bg-color: #3B4455;\n",
              "      --disabled-fill-color: #666;\n",
              "  }\n",
              "\n",
              "  .colab-df-quickchart {\n",
              "    background-color: var(--bg-color);\n",
              "    border: none;\n",
              "    border-radius: 50%;\n",
              "    cursor: pointer;\n",
              "    display: none;\n",
              "    fill: var(--fill-color);\n",
              "    height: 32px;\n",
              "    padding: 0;\n",
              "    width: 32px;\n",
              "  }\n",
              "\n",
              "  .colab-df-quickchart:hover {\n",
              "    background-color: var(--hover-bg-color);\n",
              "    box-shadow: 0 1px 2px rgba(60, 64, 67, 0.3), 0 1px 3px 1px rgba(60, 64, 67, 0.15);\n",
              "    fill: var(--button-hover-fill-color);\n",
              "  }\n",
              "\n",
              "  .colab-df-quickchart-complete:disabled,\n",
              "  .colab-df-quickchart-complete:disabled:hover {\n",
              "    background-color: var(--disabled-bg-color);\n",
              "    fill: var(--disabled-fill-color);\n",
              "    box-shadow: none;\n",
              "  }\n",
              "\n",
              "  .colab-df-spinner {\n",
              "    border: 2px solid var(--fill-color);\n",
              "    border-color: transparent;\n",
              "    border-bottom-color: var(--fill-color);\n",
              "    animation:\n",
              "      spin 1s steps(1) infinite;\n",
              "  }\n",
              "\n",
              "  @keyframes spin {\n",
              "    0% {\n",
              "      border-color: transparent;\n",
              "      border-bottom-color: var(--fill-color);\n",
              "      border-left-color: var(--fill-color);\n",
              "    }\n",
              "    20% {\n",
              "      border-color: transparent;\n",
              "      border-left-color: var(--fill-color);\n",
              "      border-top-color: var(--fill-color);\n",
              "    }\n",
              "    30% {\n",
              "      border-color: transparent;\n",
              "      border-left-color: var(--fill-color);\n",
              "      border-top-color: var(--fill-color);\n",
              "      border-right-color: var(--fill-color);\n",
              "    }\n",
              "    40% {\n",
              "      border-color: transparent;\n",
              "      border-right-color: var(--fill-color);\n",
              "      border-top-color: var(--fill-color);\n",
              "    }\n",
              "    60% {\n",
              "      border-color: transparent;\n",
              "      border-right-color: var(--fill-color);\n",
              "    }\n",
              "    80% {\n",
              "      border-color: transparent;\n",
              "      border-right-color: var(--fill-color);\n",
              "      border-bottom-color: var(--fill-color);\n",
              "    }\n",
              "    90% {\n",
              "      border-color: transparent;\n",
              "      border-bottom-color: var(--fill-color);\n",
              "    }\n",
              "  }\n",
              "</style>\n",
              "\n",
              "  <script>\n",
              "    async function quickchart(key) {\n",
              "      const quickchartButtonEl =\n",
              "        document.querySelector('#' + key + ' button');\n",
              "      quickchartButtonEl.disabled = true;  // To prevent multiple clicks.\n",
              "      quickchartButtonEl.classList.add('colab-df-spinner');\n",
              "      try {\n",
              "        const charts = await google.colab.kernel.invokeFunction(\n",
              "            'suggestCharts', [key], {});\n",
              "      } catch (error) {\n",
              "        console.error('Error during call to suggestCharts:', error);\n",
              "      }\n",
              "      quickchartButtonEl.classList.remove('colab-df-spinner');\n",
              "      quickchartButtonEl.classList.add('colab-df-quickchart-complete');\n",
              "    }\n",
              "    (() => {\n",
              "      let quickchartButtonEl =\n",
              "        document.querySelector('#df-5bf22a2d-2372-4742-8789-c749aa7e29c8 button');\n",
              "      quickchartButtonEl.style.display =\n",
              "        google.colab.kernel.accessAllowed ? 'block' : 'none';\n",
              "    })();\n",
              "  </script>\n",
              "</div>\n",
              "\n",
              "    </div>\n",
              "  </div>\n"
            ],
            "application/vnd.google.colaboratory.intrinsic+json": {
              "type": "dataframe",
              "variable_name": "fakenews_ds",
              "summary": "{\n  \"name\": \"fakenews_ds\",\n  \"rows\": 4009,\n  \"fields\": [\n    {\n      \"column\": \"URLs\",\n      \"properties\": {\n        \"dtype\": \"string\",\n        \"num_unique_values\": 3352,\n        \"samples\": [\n          \"http://beforeitsnews.com/sports/2017/09/jetnation-tuesday-tidbits-jets-maye-have-something-with-safety-tandem-2701190.html\\n\\n\",\n          \"http://www.disclose.tv/news/this_marine_stole_a_truck_and_saved_dozens_of_vegas_shooting_victims_now_the_car_owner_sent_him_this_message/140445\",\n          \"http://beforeitsnews.com/entertainment/2017/09/ashley-j-announces-her-new-empowering-and-energetic-pop-single-unbreakable-releasing-10617-2670588.html\\r\\n\"\n        ],\n        \"semantic_type\": \"\",\n        \"description\": \"\"\n      }\n    },\n    {\n      \"column\": \"Headline\",\n      \"properties\": {\n        \"dtype\": \"string\",\n        \"num_unique_values\": 2831,\n        \"samples\": [\n          \"How the Guptas' brand turned toxic in South Africa\",\n          \"Pols And Celebs Now Blame Trump For Puerto Rico And Las Vegas\",\n          \"After 'bloody mess' jab, Macron eyes training, job insurance reform\"\n        ],\n        \"semantic_type\": \"\",\n        \"description\": \"\"\n      }\n    },\n    {\n      \"column\": \"Body\",\n      \"properties\": {\n        \"dtype\": \"string\",\n        \"num_unique_values\": 2863,\n        \"samples\": [\n          \"Ahead of Foster the People's show at the \\\"All Things Go\\\" festival in Washington, lead singer Mark Foster tells #GetPolitical how the Vegas shooting changed him.\",\n          \"This was a break from the usual \\u2014 for rock acts in general and this one in particular. It was \\u201cweird\\u201d and conceptual in all the ways Mr. Petty\\u2019s music was vividly normal. They were casting themselves as survivors of some pre-video age. I don\\u2019t think I actually heard \\u201cYou Got Lucky\\u201d because I had seen it. And it looked stoned.\\nAdvertisement Continue reading the main story\\nIn the week or so since his death last Monday, Mr. Petty has been memorialized as carrying some kind of classic-rock baton, which came as a surprise to me since all my first encounters with him happened on MTV. That\\u2019s a rock-critic distinction. And it makes sense for the purists to lay their claim. Mr. Petty has never sounded out of place in a block crammed with, say, \\u201cStairway to Heaven,\\u201d \\u201cHotel California\\u201d and \\u201cLegs.\\u201d But Mr. Petty belonged as much to MTV, alongside Duran Duran and Cyndi Lauper, as he did to the old-guard rigidity of whatever is meant by \\u201cclassic rock.\\u201d\\nIt\\u2019s true, there was a classicism to his approach to rock, whether he was on his own, recording with the Heartbreakers or with the Traveling Wilburys, a sort of rock-historical Avengers. But his elasticity and economy (a Tom Petty song rarely made it past the four-minute mark) and the sweet spot it deeply satisfied over and over, were hallmarks of pop.\\nMr. Petty\\u2019s nuttiest contribution to the video era was \\u201cDon\\u2019t Come Around Here No More,\\u201d from 1985. It riffs on the Mad Hatter\\u2019s tea party from \\u201cAlice in Wonderland\\u201d with Mr. Petty as the Hatter. The props (edible teacups, mushroom tuffets) and costumes were surreally proportioned and druggie. Mr. Petty briefly either shrinks inside his outfit or his clothes turn enormous. But what\\u2019s freaky about the clip is what a creep he pretends to be, leaping from one end of the enormous dining table to where Alice sits at the other and appearing to chase her around the checkerboard set.\\nEventually, she\\u2019s trapped in the teacup and her body turns into a cake that the band and the Hatter all find good enough to eat. So they hack into her. In the final shot, the camera pans from a screaming Alice to a close-up of Mr. Petty gobbling her up. He wears the same bemused expression the entire time and, courtesy of his sunglasses, never lets you see his eyes. He was opium-den Willy Wonka. It was a look he\\u2019d often return to.\\nNewsletter Sign Up Continue reading the main story Sign Up for the Louder Newsletter Every week, stay on top of the latest in pop and jazz with reviews, interviews, podcasts and more from The New York Times music critics. Please verify you're not a robot by clicking the box. Invalid email address. Please re-enter. You must select a newsletter to subscribe to. Sign Up You agree to receive occasional updates and special offers for The New York Times's products and services. Thank you for subscribing. An error has occurred. Please try again later. View all New York Times newsletters.\\nIf \\u201cDon\\u2019t Come Around Here\\u201d is your second or third Tom Petty music-video experience, it may have been formative. Michael Jackson was a werewolf-zombie. Madonna rolled around in gondolas. Prince did splits. Tom Petty ate people. I always found that funny given how little his face appeared to do. You\\u2019d watch these videos and wonder how such a pleasingly distinctive sound could come out of a mouth that never seemed to open.\\nMr. Petty\\u2019s approach to being on MTV was not to take it more seriously than he had to. His sense of frivolity came with a coating of stranger-danger. \\u201cI Won\\u2019t Back Down\\u201d kicks off with him, still outfitted like the Mad Hatter, lifting the lid of a gift box. The camera peers inside, revealing Mr. Petty and a band playing the song on a stark, black set. Before the guitars start to cry and chug, there\\u2019s a natural studio silence that always terrified me. Who knows why? But some of it is the dark-magician he\\u2019d styled himself as.\\nThe hat and the shades seemed to keep him in disguise. It took a long time to remember that when his career in music videos started \\u2014 with \\u201cRefugee,\\u201d to pick one hypnotically shabby-looking performance \\u2014 he looked like the average girl\\u2019s prom date: cuter than you thought. By the time of \\u201cInto the Great Wide Open,\\u201d from 1991, Mr. Petty wore another ridiculous hat and wire-rimmed glasses. This time the Mad Hatter was an omniscient narrator of the song\\u2019s music-biz blues. It\\u2019s an imaginative, fitfully humorous literalizing of the song. Johnny Depp plays Eddie, a clich\\u00e9 rock star, and Faye Dunaway has a ball portraying his back-stabbed manager. (Mr. Petty himself takes on about four different parts.) The music-video veteran Julian Temple directed it, and he worked with a poignant tinge of bloat. Accordingly to Mr. Petty, in Peter Bogdanovich\\u2019s exhaustingly thorough documentary, \\u201cRunnin\\u2019 Down a Dream,\\u201d Mr. Temple originally shot a 17-minute version.\\nThe videos got at a kind of truth about Mr. Petty. Lots of his songs featured power contests between himself and unspecified forces, like record labels. Commands like \\u201cdon\\u2019t,\\u201d \\u201cwon\\u2019t,\\u201d \\u201cstop\\u201d and \\u201cquit\\u201d recur. Maybe some of the clips were a fantasy of a straightforward control he struggled for in his music. Of course, as a listener, you often heard struggle\\u2019s opposite. You felt the joy of the music\\u2019s thrum and jangle. The songs took three-chord structure and made little origami. In videos, he never seemed impressed.\\nAdvertisement Continue reading the main story\\nThat was the other thing about them. Watching them was an exercise in cognitive dissonance. For the dramatization of the ecstasy a listener feels hearing a Tom Petty song, you had to go to the movies. You had to see Tom Cruise, in Cameron Crowe\\u2019s \\u201cJerry Maguire,\\u201d searching a car radio for a song that matched his money-loving mood, settling on \\u201cFree Fallin.\\u2019\\u201d It\\u2019s one of the most casually human things Mr. Cruise has done in a movie. He practically hits the roof of his car by the time the chorus comes around.\\nJerry, of course, is hearing the bright side of a song whose sense of loneliness never occurs to Mr. Cruise. But the movie gets the irony that, really, Jerry is, Wile E. Coyote, out of road to run.\\nThen there\\u2019s Brooke Smith in Jonathan Demme\\u2019s \\u201cThe Silence of the Lambs,\\u201d rocking out to \\u201cAmerican Girl.\\u201d There\\u2019s only one way to experience this song, and Smith\\u2019s is it: pounding on the steering wheel. Mr. Petty really is one of those artists who makes you feel like you could drive a car forever. Smith\\u2019s character is about to be beaten unconscious, trapped in a van and made to live at the bottom of a dry well. But for a brief moment, she\\u2019s happy, feeling the opposite of what Mr. Petty\\u2019s song is actually about: letdowns.\\nThat, of course, was his cleverness as a writer. He wrote major-key bummers. A listener didn\\u2019t know what was hitting him until he knew. Obviously, Mr. Petty knew. The young me was never ready for those old Petty videos. To a kid, that Wile E. Coyote feeling describes a cartoon. For everybody else, it\\u2019s just life.\",\n          \"European officials are increasingly trying to counter that narrative.\\nOn Wednesday, Margrethe Vestager, the European Union\\u2019s competition commissioner, ordered Luxembourg to collect around 250 million euros, or about $293 million, in unpaid taxes from Amazon. The ruling was tied to an agreement between the country and the company that the European Commission, the bloc\\u2019s executive arm, said dated to 2003.\\nThe order resembles a similar move the commission made last year, when it directed Ireland to reclaim around $15.2 billion from Apple.\\nIreland fears that such a decision could make it a less attractive place for multinational companies. In a sign of the disquiet in Dublin about that order, the Irish government failed to meet a January deadline to collect the money. It has appealed the ruling.\\nThat earned Ireland a forceful rebuke from Ms. Vestager.\\nA year later, \\u201cIreland has not recovered any money, not even in part,\\u201d she said, warning the country to accelerate its efforts to avoid \\u201cmore conflictual waters,\\u201d a reference to the prospects for a lengthy court battle.\\nAlthough litigation to force Ireland to recoup the taxes could drag on for years, the commission has successfully sued countries in the past and punished them with large fines for failing to recover money from companies that received illegal state aid.\\nAt the time of the ruling, Europe\\u2019s competition watchdogs said that Apple\\u2019s arrangements with Dublin were illegal and had ensured the iPhone maker paid virtually nothing on its European business in some years. Brussels argued that the deals allowed Apple to funnel profit from two Irish subsidiaries to an office in which it had \\u201cno employees, no premises, no real activities.\\u201d\\nThe Irish Department of Finance said that it \\u201chas never accepted the commission\\u2019s analysis\\u201d in the Apple case and that it was taken aback by Ms. Vestager\\u2019s decision to take the country to court. The department said it had \\u201cmade significant progress on this complex issue\\u201d and accused the European authorities of taking a \\u201cwholly unnecessary step.\\u201d\\nAdvertisement Continue reading the main story\\nApple did not immediately comment on the latest move, but has criticized the ruling in the past. The original decision has also drawn the ire of the United States Treasury Department.\\nNewsletter Sign Up Continue reading the main story Please verify you're not a robot by clicking the box. Invalid email address. Please re-enter. You must select a newsletter to subscribe to. Sign Up You agree to receive occasional updates and special offers for The New York Times's products and services. Thank you for subscribing. An error has occurred. Please try again later. View all New York Times newsletters.\\nIn the case of Amazon, the commission said Wednesday that Luxembourg had reduced its tax bill for more than eight years, from 2006 to 2014, and had conferred on the company a selective advantage. The arrangement essentially capped the amount of tax that the retailer paid, and relied on a method known as transfer pricing.\\nTypically, transfer pricing has been used by companies to assign revenues and profits to different business units depending on their location, role in the overall company and assets. But that system is harder to police with technology companies because many of their biggest assets, like intellectual property, are intangible. The European Commission said that Amazon had abused this system by sending most of its European revenue to a Luxembourg subsidiary that was not liable to pay corporate tax, helping the company cut its overall bill.\\nMs. Vestager said the arrangement had \\u201cno valid economic justification\\u201d and that the company had been able to \\u201cavoid taxation on almost three quarters of the profits it made from all Amazon sales in the E.U.\\u201d\\nAmazon and Luxembourg have denied the charges.\\n\\u201cWe believe that Amazon did not receive any special treatment from Luxembourg,\\u201d the company said in a statement on Wednesday, adding that it \\u201cpaid tax in full accordance with both Luxembourg and international tax law.\\u201d\\nAmazon said it would study the commission\\u2019s ruling and was considering whether to appeal.\\nIn a statement, Luxembourg\\u2019s finance ministry also contested Ms. Vestager\\u2019s ruling. \\u201cAs Amazon has been taxed in accordance with the tax rules applicable at the relevant time, Luxembourg considers that the company has not been granted incompatible state aid,\\u201d it said.\\nIt is not illegal in the European Union for member states to attempt to lure businesses by lowering corporate tax rates. But, as with Amazon\\u2019s agreement with Luxembourg, offering special deals to select companies that are not made available to rivals can amount to \\u201cillegal state aid.\\u201d\\nThe investigations are among several in which commission officials have looked into the affairs of Silicon Valley companies. Regulators in Brussels are challenging Google and Qualcomm over alleged antitrust violations, and officials in various countries have investigated Facebook over its handling of customers\\u2019 data.\\nMs. Vestager has made taxes a priority of her term as Europe\\u2019s competition commissioner. In that time, she has penalized Starbucks in the Netherlands and Anheuser-Busch InBev in Belgium. But Luxembourg has been a particular target: In 2015, she told the country to claw back about \\u20ac30 million from a Fiat Chrysler unit, while a case considering Luxembourg\\u2019s treatment of McDonald\\u2019s is also continuing.\\nAdvertisement Continue reading the main story\\n\\u201cI don\\u2019t think that we\\u2019re done,\\u201d Ms. Vestager said on Wednesday, adding that new laws were also necessary. \\u201cThe main part of the solution is of course that we have legislation that gives you a transparent tax landscape and enables national tax authorities to do their job.\\u201d\\nA broader overhaul may be afoot. The European Commission published proposals last month under which internet companies would be taxed in the countries where they generated revenue. Such a shift would mean the companies could not move their profits to jurisdictions with lower taxes.\\nA push in that direction could, however, prove complicated and carries several risks, said Clemens Fuest, the director of the Ifo Institute for Economic Research, a prominent think tank in Germany. In particular, European governments still might devise a host of new incentives to lure investment, while legislative changes at the European level could prompt retaliation by major trading partners.\\n\\u201cThere are real dangers if Brussels keeps acting unilaterally,\\u201d Mr. Fuest said.\\nThe European Union stepped up efforts to curb tax avoidance by companies and by individuals after the financial crisis, which forced many of the bloc\\u2019s member states to cut public services and raise tax rates. But opponents of the austerity programs argued that big corporations had not faced the same pressures, partly because they have long been able to shift their profits to low-tax countries.\"\n        ],\n        \"semantic_type\": \"\",\n        \"description\": \"\"\n      }\n    },\n    {\n      \"column\": \"Label\",\n      \"properties\": {\n        \"dtype\": \"number\",\n        \"std\": 0,\n        \"min\": 0,\n        \"max\": 1,\n        \"num_unique_values\": 2,\n        \"samples\": [\n          0,\n          1\n        ],\n        \"semantic_type\": \"\",\n        \"description\": \"\"\n      }\n    }\n  ]\n}"
            }
          },
          "metadata": {},
          "execution_count": 8
        }
      ]
    },
    {
      "cell_type": "markdown",
      "source": [
        "**Data Pre-processing**\n",
        "\n",
        "\n"
      ],
      "metadata": {
        "id": "RAJFhNz86dTH"
      }
    },
    {
      "cell_type": "code",
      "source": [
        "fakenews_ds.shape"
      ],
      "metadata": {
        "colab": {
          "base_uri": "https://localhost:8080/"
        },
        "id": "SGb--0DX6kYH",
        "outputId": "33421e38-a544-45a2-f3aa-06571932b7d7"
      },
      "execution_count": null,
      "outputs": [
        {
          "output_type": "execute_result",
          "data": {
            "text/plain": [
              "(4009, 4)"
            ]
          },
          "metadata": {},
          "execution_count": 9
        }
      ]
    },
    {
      "cell_type": "markdown",
      "source": [
        "**Data** **cleaning**"
      ],
      "metadata": {
        "id": "CczGdL0VUvTt"
      }
    },
    {
      "cell_type": "code",
      "source": [
        "fakenews_ds.isnull().sum()"
      ],
      "metadata": {
        "colab": {
          "base_uri": "https://localhost:8080/"
        },
        "id": "DyiowGmD6t7-",
        "outputId": "440c89bb-c4a5-4703-aa26-616d545ae6af"
      },
      "execution_count": null,
      "outputs": [
        {
          "output_type": "execute_result",
          "data": {
            "text/plain": [
              "URLs         0\n",
              "Headline     0\n",
              "Body        21\n",
              "Label        0\n",
              "dtype: int64"
            ]
          },
          "metadata": {},
          "execution_count": 10
        }
      ]
    },
    {
      "cell_type": "markdown",
      "source": [
        "**Removing Null value**"
      ],
      "metadata": {
        "id": "sZKY_gdAU3v-"
      }
    },
    {
      "cell_type": "code",
      "source": [
        "fakenews_ds= fakenews_ds.dropna()\n",
        "fakenews_ds"
      ],
      "metadata": {
        "colab": {
          "base_uri": "https://localhost:8080/",
          "height": 424
        },
        "id": "IHcMOgedBDPU",
        "outputId": "bbcc6d62-10a0-4458-f097-7e0c50a6783a"
      },
      "execution_count": null,
      "outputs": [
        {
          "output_type": "execute_result",
          "data": {
            "text/plain": [
              "                                                   URLs  \\\n",
              "0     http://www.bbc.com/news/world-us-canada-414191...   \n",
              "1     https://www.reuters.com/article/us-filmfestiva...   \n",
              "2     https://www.nytimes.com/2017/10/09/us/politics...   \n",
              "3     https://www.reuters.com/article/us-mexico-oil-...   \n",
              "4     http://www.cnn.com/videos/cnnmoney/2017/10/08/...   \n",
              "...                                                 ...   \n",
              "4003  http://beforeitsnews.com/u-s-politics/2017/10/...   \n",
              "4004  http://beforeitsnews.com/sports/2017/09/trends...   \n",
              "4005  http://beforeitsnews.com/u-s-politics/2017/10/...   \n",
              "4007  https://www.reuters.com/article/us-china-pharm...   \n",
              "4008  http://beforeitsnews.com/u-s-politics/2017/10/...   \n",
              "\n",
              "                                               Headline  \\\n",
              "0            Four ways Bob Corker skewered Donald Trump   \n",
              "1     Linklater's war veteran comedy speaks to moder...   \n",
              "2     Trump’s Fight With Corker Jeopardizes His Legi...   \n",
              "3     Egypt's Cheiron wins tie-up with Pemex for Mex...   \n",
              "4           Jason Aldean opens 'SNL' with Vegas tribute   \n",
              "...                                                 ...   \n",
              "4003  CNN and Globalist Exposed - Steve Quayle and A...   \n",
              "4004                                    Trends to Watch   \n",
              "4005  Trump Jr. Is Soon To Give A 30-Minute Speech F...   \n",
              "4007  China to accept overseas trial data in bid to ...   \n",
              "4008  Vice President Mike Pence Leaves NFL Game Beca...   \n",
              "\n",
              "                                                   Body  Label  \n",
              "0     Image copyright Getty Images\\nOn Sunday mornin...      1  \n",
              "1     LONDON (Reuters) - “Last Flag Flying”, a comed...      1  \n",
              "2     The feud broke into public view last week when...      1  \n",
              "3     MEXICO CITY (Reuters) - Egypt’s Cheiron Holdin...      1  \n",
              "4     Country singer Jason Aldean, who was performin...      1  \n",
              "...                                                 ...    ...  \n",
              "4003  Vietnam Is in Great Danger, You Must Publish a...      0  \n",
              "4004  Trends to Watch\\n% of readers think this story...      0  \n",
              "4005  Trump Jr. Is Soon To Give A 30-Minute Speech F...      0  \n",
              "4007  SHANGHAI (Reuters) - China said it plans to ac...      1  \n",
              "4008  Vice President Mike Pence Leaves NFL Game Beca...      0  \n",
              "\n",
              "[3988 rows x 4 columns]"
            ],
            "text/html": [
              "\n",
              "  <div id=\"df-df552d06-25d7-466c-92f6-3784302a4f3b\" class=\"colab-df-container\">\n",
              "    <div>\n",
              "<style scoped>\n",
              "    .dataframe tbody tr th:only-of-type {\n",
              "        vertical-align: middle;\n",
              "    }\n",
              "\n",
              "    .dataframe tbody tr th {\n",
              "        vertical-align: top;\n",
              "    }\n",
              "\n",
              "    .dataframe thead th {\n",
              "        text-align: right;\n",
              "    }\n",
              "</style>\n",
              "<table border=\"1\" class=\"dataframe\">\n",
              "  <thead>\n",
              "    <tr style=\"text-align: right;\">\n",
              "      <th></th>\n",
              "      <th>URLs</th>\n",
              "      <th>Headline</th>\n",
              "      <th>Body</th>\n",
              "      <th>Label</th>\n",
              "    </tr>\n",
              "  </thead>\n",
              "  <tbody>\n",
              "    <tr>\n",
              "      <th>0</th>\n",
              "      <td>http://www.bbc.com/news/world-us-canada-414191...</td>\n",
              "      <td>Four ways Bob Corker skewered Donald Trump</td>\n",
              "      <td>Image copyright Getty Images\\nOn Sunday mornin...</td>\n",
              "      <td>1</td>\n",
              "    </tr>\n",
              "    <tr>\n",
              "      <th>1</th>\n",
              "      <td>https://www.reuters.com/article/us-filmfestiva...</td>\n",
              "      <td>Linklater's war veteran comedy speaks to moder...</td>\n",
              "      <td>LONDON (Reuters) - “Last Flag Flying”, a comed...</td>\n",
              "      <td>1</td>\n",
              "    </tr>\n",
              "    <tr>\n",
              "      <th>2</th>\n",
              "      <td>https://www.nytimes.com/2017/10/09/us/politics...</td>\n",
              "      <td>Trump’s Fight With Corker Jeopardizes His Legi...</td>\n",
              "      <td>The feud broke into public view last week when...</td>\n",
              "      <td>1</td>\n",
              "    </tr>\n",
              "    <tr>\n",
              "      <th>3</th>\n",
              "      <td>https://www.reuters.com/article/us-mexico-oil-...</td>\n",
              "      <td>Egypt's Cheiron wins tie-up with Pemex for Mex...</td>\n",
              "      <td>MEXICO CITY (Reuters) - Egypt’s Cheiron Holdin...</td>\n",
              "      <td>1</td>\n",
              "    </tr>\n",
              "    <tr>\n",
              "      <th>4</th>\n",
              "      <td>http://www.cnn.com/videos/cnnmoney/2017/10/08/...</td>\n",
              "      <td>Jason Aldean opens 'SNL' with Vegas tribute</td>\n",
              "      <td>Country singer Jason Aldean, who was performin...</td>\n",
              "      <td>1</td>\n",
              "    </tr>\n",
              "    <tr>\n",
              "      <th>...</th>\n",
              "      <td>...</td>\n",
              "      <td>...</td>\n",
              "      <td>...</td>\n",
              "      <td>...</td>\n",
              "    </tr>\n",
              "    <tr>\n",
              "      <th>4003</th>\n",
              "      <td>http://beforeitsnews.com/u-s-politics/2017/10/...</td>\n",
              "      <td>CNN and Globalist Exposed - Steve Quayle and A...</td>\n",
              "      <td>Vietnam Is in Great Danger, You Must Publish a...</td>\n",
              "      <td>0</td>\n",
              "    </tr>\n",
              "    <tr>\n",
              "      <th>4004</th>\n",
              "      <td>http://beforeitsnews.com/sports/2017/09/trends...</td>\n",
              "      <td>Trends to Watch</td>\n",
              "      <td>Trends to Watch\\n% of readers think this story...</td>\n",
              "      <td>0</td>\n",
              "    </tr>\n",
              "    <tr>\n",
              "      <th>4005</th>\n",
              "      <td>http://beforeitsnews.com/u-s-politics/2017/10/...</td>\n",
              "      <td>Trump Jr. Is Soon To Give A 30-Minute Speech F...</td>\n",
              "      <td>Trump Jr. Is Soon To Give A 30-Minute Speech F...</td>\n",
              "      <td>0</td>\n",
              "    </tr>\n",
              "    <tr>\n",
              "      <th>4007</th>\n",
              "      <td>https://www.reuters.com/article/us-china-pharm...</td>\n",
              "      <td>China to accept overseas trial data in bid to ...</td>\n",
              "      <td>SHANGHAI (Reuters) - China said it plans to ac...</td>\n",
              "      <td>1</td>\n",
              "    </tr>\n",
              "    <tr>\n",
              "      <th>4008</th>\n",
              "      <td>http://beforeitsnews.com/u-s-politics/2017/10/...</td>\n",
              "      <td>Vice President Mike Pence Leaves NFL Game Beca...</td>\n",
              "      <td>Vice President Mike Pence Leaves NFL Game Beca...</td>\n",
              "      <td>0</td>\n",
              "    </tr>\n",
              "  </tbody>\n",
              "</table>\n",
              "<p>3988 rows × 4 columns</p>\n",
              "</div>\n",
              "    <div class=\"colab-df-buttons\">\n",
              "\n",
              "  <div class=\"colab-df-container\">\n",
              "    <button class=\"colab-df-convert\" onclick=\"convertToInteractive('df-df552d06-25d7-466c-92f6-3784302a4f3b')\"\n",
              "            title=\"Convert this dataframe to an interactive table.\"\n",
              "            style=\"display:none;\">\n",
              "\n",
              "  <svg xmlns=\"http://www.w3.org/2000/svg\" height=\"24px\" viewBox=\"0 -960 960 960\">\n",
              "    <path d=\"M120-120v-720h720v720H120Zm60-500h600v-160H180v160Zm220 220h160v-160H400v160Zm0 220h160v-160H400v160ZM180-400h160v-160H180v160Zm440 0h160v-160H620v160ZM180-180h160v-160H180v160Zm440 0h160v-160H620v160Z\"/>\n",
              "  </svg>\n",
              "    </button>\n",
              "\n",
              "  <style>\n",
              "    .colab-df-container {\n",
              "      display:flex;\n",
              "      gap: 12px;\n",
              "    }\n",
              "\n",
              "    .colab-df-convert {\n",
              "      background-color: #E8F0FE;\n",
              "      border: none;\n",
              "      border-radius: 50%;\n",
              "      cursor: pointer;\n",
              "      display: none;\n",
              "      fill: #1967D2;\n",
              "      height: 32px;\n",
              "      padding: 0 0 0 0;\n",
              "      width: 32px;\n",
              "    }\n",
              "\n",
              "    .colab-df-convert:hover {\n",
              "      background-color: #E2EBFA;\n",
              "      box-shadow: 0px 1px 2px rgba(60, 64, 67, 0.3), 0px 1px 3px 1px rgba(60, 64, 67, 0.15);\n",
              "      fill: #174EA6;\n",
              "    }\n",
              "\n",
              "    .colab-df-buttons div {\n",
              "      margin-bottom: 4px;\n",
              "    }\n",
              "\n",
              "    [theme=dark] .colab-df-convert {\n",
              "      background-color: #3B4455;\n",
              "      fill: #D2E3FC;\n",
              "    }\n",
              "\n",
              "    [theme=dark] .colab-df-convert:hover {\n",
              "      background-color: #434B5C;\n",
              "      box-shadow: 0px 1px 3px 1px rgba(0, 0, 0, 0.15);\n",
              "      filter: drop-shadow(0px 1px 2px rgba(0, 0, 0, 0.3));\n",
              "      fill: #FFFFFF;\n",
              "    }\n",
              "  </style>\n",
              "\n",
              "    <script>\n",
              "      const buttonEl =\n",
              "        document.querySelector('#df-df552d06-25d7-466c-92f6-3784302a4f3b button.colab-df-convert');\n",
              "      buttonEl.style.display =\n",
              "        google.colab.kernel.accessAllowed ? 'block' : 'none';\n",
              "\n",
              "      async function convertToInteractive(key) {\n",
              "        const element = document.querySelector('#df-df552d06-25d7-466c-92f6-3784302a4f3b');\n",
              "        const dataTable =\n",
              "          await google.colab.kernel.invokeFunction('convertToInteractive',\n",
              "                                                    [key], {});\n",
              "        if (!dataTable) return;\n",
              "\n",
              "        const docLinkHtml = 'Like what you see? Visit the ' +\n",
              "          '<a target=\"_blank\" href=https://colab.research.google.com/notebooks/data_table.ipynb>data table notebook</a>'\n",
              "          + ' to learn more about interactive tables.';\n",
              "        element.innerHTML = '';\n",
              "        dataTable['output_type'] = 'display_data';\n",
              "        await google.colab.output.renderOutput(dataTable, element);\n",
              "        const docLink = document.createElement('div');\n",
              "        docLink.innerHTML = docLinkHtml;\n",
              "        element.appendChild(docLink);\n",
              "      }\n",
              "    </script>\n",
              "  </div>\n",
              "\n",
              "\n",
              "<div id=\"df-1ecb9502-e19c-49ff-bf50-600d6360c95e\">\n",
              "  <button class=\"colab-df-quickchart\" onclick=\"quickchart('df-1ecb9502-e19c-49ff-bf50-600d6360c95e')\"\n",
              "            title=\"Suggest charts\"\n",
              "            style=\"display:none;\">\n",
              "\n",
              "<svg xmlns=\"http://www.w3.org/2000/svg\" height=\"24px\"viewBox=\"0 0 24 24\"\n",
              "     width=\"24px\">\n",
              "    <g>\n",
              "        <path d=\"M19 3H5c-1.1 0-2 .9-2 2v14c0 1.1.9 2 2 2h14c1.1 0 2-.9 2-2V5c0-1.1-.9-2-2-2zM9 17H7v-7h2v7zm4 0h-2V7h2v10zm4 0h-2v-4h2v4z\"/>\n",
              "    </g>\n",
              "</svg>\n",
              "  </button>\n",
              "\n",
              "<style>\n",
              "  .colab-df-quickchart {\n",
              "      --bg-color: #E8F0FE;\n",
              "      --fill-color: #1967D2;\n",
              "      --hover-bg-color: #E2EBFA;\n",
              "      --hover-fill-color: #174EA6;\n",
              "      --disabled-fill-color: #AAA;\n",
              "      --disabled-bg-color: #DDD;\n",
              "  }\n",
              "\n",
              "  [theme=dark] .colab-df-quickchart {\n",
              "      --bg-color: #3B4455;\n",
              "      --fill-color: #D2E3FC;\n",
              "      --hover-bg-color: #434B5C;\n",
              "      --hover-fill-color: #FFFFFF;\n",
              "      --disabled-bg-color: #3B4455;\n",
              "      --disabled-fill-color: #666;\n",
              "  }\n",
              "\n",
              "  .colab-df-quickchart {\n",
              "    background-color: var(--bg-color);\n",
              "    border: none;\n",
              "    border-radius: 50%;\n",
              "    cursor: pointer;\n",
              "    display: none;\n",
              "    fill: var(--fill-color);\n",
              "    height: 32px;\n",
              "    padding: 0;\n",
              "    width: 32px;\n",
              "  }\n",
              "\n",
              "  .colab-df-quickchart:hover {\n",
              "    background-color: var(--hover-bg-color);\n",
              "    box-shadow: 0 1px 2px rgba(60, 64, 67, 0.3), 0 1px 3px 1px rgba(60, 64, 67, 0.15);\n",
              "    fill: var(--button-hover-fill-color);\n",
              "  }\n",
              "\n",
              "  .colab-df-quickchart-complete:disabled,\n",
              "  .colab-df-quickchart-complete:disabled:hover {\n",
              "    background-color: var(--disabled-bg-color);\n",
              "    fill: var(--disabled-fill-color);\n",
              "    box-shadow: none;\n",
              "  }\n",
              "\n",
              "  .colab-df-spinner {\n",
              "    border: 2px solid var(--fill-color);\n",
              "    border-color: transparent;\n",
              "    border-bottom-color: var(--fill-color);\n",
              "    animation:\n",
              "      spin 1s steps(1) infinite;\n",
              "  }\n",
              "\n",
              "  @keyframes spin {\n",
              "    0% {\n",
              "      border-color: transparent;\n",
              "      border-bottom-color: var(--fill-color);\n",
              "      border-left-color: var(--fill-color);\n",
              "    }\n",
              "    20% {\n",
              "      border-color: transparent;\n",
              "      border-left-color: var(--fill-color);\n",
              "      border-top-color: var(--fill-color);\n",
              "    }\n",
              "    30% {\n",
              "      border-color: transparent;\n",
              "      border-left-color: var(--fill-color);\n",
              "      border-top-color: var(--fill-color);\n",
              "      border-right-color: var(--fill-color);\n",
              "    }\n",
              "    40% {\n",
              "      border-color: transparent;\n",
              "      border-right-color: var(--fill-color);\n",
              "      border-top-color: var(--fill-color);\n",
              "    }\n",
              "    60% {\n",
              "      border-color: transparent;\n",
              "      border-right-color: var(--fill-color);\n",
              "    }\n",
              "    80% {\n",
              "      border-color: transparent;\n",
              "      border-right-color: var(--fill-color);\n",
              "      border-bottom-color: var(--fill-color);\n",
              "    }\n",
              "    90% {\n",
              "      border-color: transparent;\n",
              "      border-bottom-color: var(--fill-color);\n",
              "    }\n",
              "  }\n",
              "</style>\n",
              "\n",
              "  <script>\n",
              "    async function quickchart(key) {\n",
              "      const quickchartButtonEl =\n",
              "        document.querySelector('#' + key + ' button');\n",
              "      quickchartButtonEl.disabled = true;  // To prevent multiple clicks.\n",
              "      quickchartButtonEl.classList.add('colab-df-spinner');\n",
              "      try {\n",
              "        const charts = await google.colab.kernel.invokeFunction(\n",
              "            'suggestCharts', [key], {});\n",
              "      } catch (error) {\n",
              "        console.error('Error during call to suggestCharts:', error);\n",
              "      }\n",
              "      quickchartButtonEl.classList.remove('colab-df-spinner');\n",
              "      quickchartButtonEl.classList.add('colab-df-quickchart-complete');\n",
              "    }\n",
              "    (() => {\n",
              "      let quickchartButtonEl =\n",
              "        document.querySelector('#df-1ecb9502-e19c-49ff-bf50-600d6360c95e button');\n",
              "      quickchartButtonEl.style.display =\n",
              "        google.colab.kernel.accessAllowed ? 'block' : 'none';\n",
              "    })();\n",
              "  </script>\n",
              "</div>\n",
              "\n",
              "  <div id=\"id_e8c7a8c4-53c3-4f2c-bcd9-f9aaa8e0cc54\">\n",
              "    <style>\n",
              "      .colab-df-generate {\n",
              "        background-color: #E8F0FE;\n",
              "        border: none;\n",
              "        border-radius: 50%;\n",
              "        cursor: pointer;\n",
              "        display: none;\n",
              "        fill: #1967D2;\n",
              "        height: 32px;\n",
              "        padding: 0 0 0 0;\n",
              "        width: 32px;\n",
              "      }\n",
              "\n",
              "      .colab-df-generate:hover {\n",
              "        background-color: #E2EBFA;\n",
              "        box-shadow: 0px 1px 2px rgba(60, 64, 67, 0.3), 0px 1px 3px 1px rgba(60, 64, 67, 0.15);\n",
              "        fill: #174EA6;\n",
              "      }\n",
              "\n",
              "      [theme=dark] .colab-df-generate {\n",
              "        background-color: #3B4455;\n",
              "        fill: #D2E3FC;\n",
              "      }\n",
              "\n",
              "      [theme=dark] .colab-df-generate:hover {\n",
              "        background-color: #434B5C;\n",
              "        box-shadow: 0px 1px 3px 1px rgba(0, 0, 0, 0.15);\n",
              "        filter: drop-shadow(0px 1px 2px rgba(0, 0, 0, 0.3));\n",
              "        fill: #FFFFFF;\n",
              "      }\n",
              "    </style>\n",
              "    <button class=\"colab-df-generate\" onclick=\"generateWithVariable('fakenews_ds')\"\n",
              "            title=\"Generate code using this dataframe.\"\n",
              "            style=\"display:none;\">\n",
              "\n",
              "  <svg xmlns=\"http://www.w3.org/2000/svg\" height=\"24px\"viewBox=\"0 0 24 24\"\n",
              "       width=\"24px\">\n",
              "    <path d=\"M7,19H8.4L18.45,9,17,7.55,7,17.6ZM5,21V16.75L18.45,3.32a2,2,0,0,1,2.83,0l1.4,1.43a1.91,1.91,0,0,1,.58,1.4,1.91,1.91,0,0,1-.58,1.4L9.25,21ZM18.45,9,17,7.55Zm-12,3A5.31,5.31,0,0,0,4.9,8.1,5.31,5.31,0,0,0,1,6.5,5.31,5.31,0,0,0,4.9,4.9,5.31,5.31,0,0,0,6.5,1,5.31,5.31,0,0,0,8.1,4.9,5.31,5.31,0,0,0,12,6.5,5.46,5.46,0,0,0,6.5,12Z\"/>\n",
              "  </svg>\n",
              "    </button>\n",
              "    <script>\n",
              "      (() => {\n",
              "      const buttonEl =\n",
              "        document.querySelector('#id_e8c7a8c4-53c3-4f2c-bcd9-f9aaa8e0cc54 button.colab-df-generate');\n",
              "      buttonEl.style.display =\n",
              "        google.colab.kernel.accessAllowed ? 'block' : 'none';\n",
              "\n",
              "      buttonEl.onclick = () => {\n",
              "        google.colab.notebook.generateWithVariable('fakenews_ds');\n",
              "      }\n",
              "      })();\n",
              "    </script>\n",
              "  </div>\n",
              "\n",
              "    </div>\n",
              "  </div>\n"
            ],
            "application/vnd.google.colaboratory.intrinsic+json": {
              "type": "dataframe",
              "variable_name": "fakenews_ds",
              "summary": "{\n  \"name\": \"fakenews_ds\",\n  \"rows\": 3988,\n  \"fields\": [\n    {\n      \"column\": \"URLs\",\n      \"properties\": {\n        \"dtype\": \"string\",\n        \"num_unique_values\": 3332,\n        \"samples\": [\n          \"https://www.reuters.com/article/us-ukraine-crisis-russia-microsoft/exclusive-despite-sanctions-russian-organizations-acquire-microsoft-software-idUSKBN1CG0NS\\n\",\n          \"http://beforeitsnews.com/sports/2017/09/college-football-mel-kiper-and-todd-mcshays-list-of-most-exciting-players-to-watch-2701174.html\\n\\n\",\n          \"http://beforeitsnews.com/u-s-politics/2017/10/chicago-cubs-relievers-choke-away-all-but-certain-win-as-nationals-tie-nlds-at-1-1-2537563.html\\r\\n\"\n        ],\n        \"semantic_type\": \"\",\n        \"description\": \"\"\n      }\n    },\n    {\n      \"column\": \"Headline\",\n      \"properties\": {\n        \"dtype\": \"string\",\n        \"num_unique_values\": 2823,\n        \"samples\": [\n          \"Eight birdie Smith upstages quality field at CIMB Classic\",\n          \"Malala Yousafzai, Nobel Peace Prize Laureate, Starts at Oxford\",\n          \"EU lawmakers give tentative nod to Brexit clearing law that could clobber Britain\"\n        ],\n        \"semantic_type\": \"\",\n        \"description\": \"\"\n      }\n    },\n    {\n      \"column\": \"Body\",\n      \"properties\": {\n        \"dtype\": \"string\",\n        \"num_unique_values\": 2863,\n        \"samples\": [\n          \"Ahead of Foster the People's show at the \\\"All Things Go\\\" festival in Washington, lead singer Mark Foster tells #GetPolitical how the Vegas shooting changed him.\",\n          \"This was a break from the usual \\u2014 for rock acts in general and this one in particular. It was \\u201cweird\\u201d and conceptual in all the ways Mr. Petty\\u2019s music was vividly normal. They were casting themselves as survivors of some pre-video age. I don\\u2019t think I actually heard \\u201cYou Got Lucky\\u201d because I had seen it. And it looked stoned.\\nAdvertisement Continue reading the main story\\nIn the week or so since his death last Monday, Mr. Petty has been memorialized as carrying some kind of classic-rock baton, which came as a surprise to me since all my first encounters with him happened on MTV. That\\u2019s a rock-critic distinction. And it makes sense for the purists to lay their claim. Mr. Petty has never sounded out of place in a block crammed with, say, \\u201cStairway to Heaven,\\u201d \\u201cHotel California\\u201d and \\u201cLegs.\\u201d But Mr. Petty belonged as much to MTV, alongside Duran Duran and Cyndi Lauper, as he did to the old-guard rigidity of whatever is meant by \\u201cclassic rock.\\u201d\\nIt\\u2019s true, there was a classicism to his approach to rock, whether he was on his own, recording with the Heartbreakers or with the Traveling Wilburys, a sort of rock-historical Avengers. But his elasticity and economy (a Tom Petty song rarely made it past the four-minute mark) and the sweet spot it deeply satisfied over and over, were hallmarks of pop.\\nMr. Petty\\u2019s nuttiest contribution to the video era was \\u201cDon\\u2019t Come Around Here No More,\\u201d from 1985. It riffs on the Mad Hatter\\u2019s tea party from \\u201cAlice in Wonderland\\u201d with Mr. Petty as the Hatter. The props (edible teacups, mushroom tuffets) and costumes were surreally proportioned and druggie. Mr. Petty briefly either shrinks inside his outfit or his clothes turn enormous. But what\\u2019s freaky about the clip is what a creep he pretends to be, leaping from one end of the enormous dining table to where Alice sits at the other and appearing to chase her around the checkerboard set.\\nEventually, she\\u2019s trapped in the teacup and her body turns into a cake that the band and the Hatter all find good enough to eat. So they hack into her. In the final shot, the camera pans from a screaming Alice to a close-up of Mr. Petty gobbling her up. He wears the same bemused expression the entire time and, courtesy of his sunglasses, never lets you see his eyes. He was opium-den Willy Wonka. It was a look he\\u2019d often return to.\\nNewsletter Sign Up Continue reading the main story Sign Up for the Louder Newsletter Every week, stay on top of the latest in pop and jazz with reviews, interviews, podcasts and more from The New York Times music critics. Please verify you're not a robot by clicking the box. Invalid email address. Please re-enter. You must select a newsletter to subscribe to. Sign Up You agree to receive occasional updates and special offers for The New York Times's products and services. Thank you for subscribing. An error has occurred. Please try again later. View all New York Times newsletters.\\nIf \\u201cDon\\u2019t Come Around Here\\u201d is your second or third Tom Petty music-video experience, it may have been formative. Michael Jackson was a werewolf-zombie. Madonna rolled around in gondolas. Prince did splits. Tom Petty ate people. I always found that funny given how little his face appeared to do. You\\u2019d watch these videos and wonder how such a pleasingly distinctive sound could come out of a mouth that never seemed to open.\\nMr. Petty\\u2019s approach to being on MTV was not to take it more seriously than he had to. His sense of frivolity came with a coating of stranger-danger. \\u201cI Won\\u2019t Back Down\\u201d kicks off with him, still outfitted like the Mad Hatter, lifting the lid of a gift box. The camera peers inside, revealing Mr. Petty and a band playing the song on a stark, black set. Before the guitars start to cry and chug, there\\u2019s a natural studio silence that always terrified me. Who knows why? But some of it is the dark-magician he\\u2019d styled himself as.\\nThe hat and the shades seemed to keep him in disguise. It took a long time to remember that when his career in music videos started \\u2014 with \\u201cRefugee,\\u201d to pick one hypnotically shabby-looking performance \\u2014 he looked like the average girl\\u2019s prom date: cuter than you thought. By the time of \\u201cInto the Great Wide Open,\\u201d from 1991, Mr. Petty wore another ridiculous hat and wire-rimmed glasses. This time the Mad Hatter was an omniscient narrator of the song\\u2019s music-biz blues. It\\u2019s an imaginative, fitfully humorous literalizing of the song. Johnny Depp plays Eddie, a clich\\u00e9 rock star, and Faye Dunaway has a ball portraying his back-stabbed manager. (Mr. Petty himself takes on about four different parts.) The music-video veteran Julian Temple directed it, and he worked with a poignant tinge of bloat. Accordingly to Mr. Petty, in Peter Bogdanovich\\u2019s exhaustingly thorough documentary, \\u201cRunnin\\u2019 Down a Dream,\\u201d Mr. Temple originally shot a 17-minute version.\\nThe videos got at a kind of truth about Mr. Petty. Lots of his songs featured power contests between himself and unspecified forces, like record labels. Commands like \\u201cdon\\u2019t,\\u201d \\u201cwon\\u2019t,\\u201d \\u201cstop\\u201d and \\u201cquit\\u201d recur. Maybe some of the clips were a fantasy of a straightforward control he struggled for in his music. Of course, as a listener, you often heard struggle\\u2019s opposite. You felt the joy of the music\\u2019s thrum and jangle. The songs took three-chord structure and made little origami. In videos, he never seemed impressed.\\nAdvertisement Continue reading the main story\\nThat was the other thing about them. Watching them was an exercise in cognitive dissonance. For the dramatization of the ecstasy a listener feels hearing a Tom Petty song, you had to go to the movies. You had to see Tom Cruise, in Cameron Crowe\\u2019s \\u201cJerry Maguire,\\u201d searching a car radio for a song that matched his money-loving mood, settling on \\u201cFree Fallin.\\u2019\\u201d It\\u2019s one of the most casually human things Mr. Cruise has done in a movie. He practically hits the roof of his car by the time the chorus comes around.\\nJerry, of course, is hearing the bright side of a song whose sense of loneliness never occurs to Mr. Cruise. But the movie gets the irony that, really, Jerry is, Wile E. Coyote, out of road to run.\\nThen there\\u2019s Brooke Smith in Jonathan Demme\\u2019s \\u201cThe Silence of the Lambs,\\u201d rocking out to \\u201cAmerican Girl.\\u201d There\\u2019s only one way to experience this song, and Smith\\u2019s is it: pounding on the steering wheel. Mr. Petty really is one of those artists who makes you feel like you could drive a car forever. Smith\\u2019s character is about to be beaten unconscious, trapped in a van and made to live at the bottom of a dry well. But for a brief moment, she\\u2019s happy, feeling the opposite of what Mr. Petty\\u2019s song is actually about: letdowns.\\nThat, of course, was his cleverness as a writer. He wrote major-key bummers. A listener didn\\u2019t know what was hitting him until he knew. Obviously, Mr. Petty knew. The young me was never ready for those old Petty videos. To a kid, that Wile E. Coyote feeling describes a cartoon. For everybody else, it\\u2019s just life.\",\n          \"European officials are increasingly trying to counter that narrative.\\nOn Wednesday, Margrethe Vestager, the European Union\\u2019s competition commissioner, ordered Luxembourg to collect around 250 million euros, or about $293 million, in unpaid taxes from Amazon. The ruling was tied to an agreement between the country and the company that the European Commission, the bloc\\u2019s executive arm, said dated to 2003.\\nThe order resembles a similar move the commission made last year, when it directed Ireland to reclaim around $15.2 billion from Apple.\\nIreland fears that such a decision could make it a less attractive place for multinational companies. In a sign of the disquiet in Dublin about that order, the Irish government failed to meet a January deadline to collect the money. It has appealed the ruling.\\nThat earned Ireland a forceful rebuke from Ms. Vestager.\\nA year later, \\u201cIreland has not recovered any money, not even in part,\\u201d she said, warning the country to accelerate its efforts to avoid \\u201cmore conflictual waters,\\u201d a reference to the prospects for a lengthy court battle.\\nAlthough litigation to force Ireland to recoup the taxes could drag on for years, the commission has successfully sued countries in the past and punished them with large fines for failing to recover money from companies that received illegal state aid.\\nAt the time of the ruling, Europe\\u2019s competition watchdogs said that Apple\\u2019s arrangements with Dublin were illegal and had ensured the iPhone maker paid virtually nothing on its European business in some years. Brussels argued that the deals allowed Apple to funnel profit from two Irish subsidiaries to an office in which it had \\u201cno employees, no premises, no real activities.\\u201d\\nThe Irish Department of Finance said that it \\u201chas never accepted the commission\\u2019s analysis\\u201d in the Apple case and that it was taken aback by Ms. Vestager\\u2019s decision to take the country to court. The department said it had \\u201cmade significant progress on this complex issue\\u201d and accused the European authorities of taking a \\u201cwholly unnecessary step.\\u201d\\nAdvertisement Continue reading the main story\\nApple did not immediately comment on the latest move, but has criticized the ruling in the past. The original decision has also drawn the ire of the United States Treasury Department.\\nNewsletter Sign Up Continue reading the main story Please verify you're not a robot by clicking the box. Invalid email address. Please re-enter. You must select a newsletter to subscribe to. Sign Up You agree to receive occasional updates and special offers for The New York Times's products and services. Thank you for subscribing. An error has occurred. Please try again later. View all New York Times newsletters.\\nIn the case of Amazon, the commission said Wednesday that Luxembourg had reduced its tax bill for more than eight years, from 2006 to 2014, and had conferred on the company a selective advantage. The arrangement essentially capped the amount of tax that the retailer paid, and relied on a method known as transfer pricing.\\nTypically, transfer pricing has been used by companies to assign revenues and profits to different business units depending on their location, role in the overall company and assets. But that system is harder to police with technology companies because many of their biggest assets, like intellectual property, are intangible. The European Commission said that Amazon had abused this system by sending most of its European revenue to a Luxembourg subsidiary that was not liable to pay corporate tax, helping the company cut its overall bill.\\nMs. Vestager said the arrangement had \\u201cno valid economic justification\\u201d and that the company had been able to \\u201cavoid taxation on almost three quarters of the profits it made from all Amazon sales in the E.U.\\u201d\\nAmazon and Luxembourg have denied the charges.\\n\\u201cWe believe that Amazon did not receive any special treatment from Luxembourg,\\u201d the company said in a statement on Wednesday, adding that it \\u201cpaid tax in full accordance with both Luxembourg and international tax law.\\u201d\\nAmazon said it would study the commission\\u2019s ruling and was considering whether to appeal.\\nIn a statement, Luxembourg\\u2019s finance ministry also contested Ms. Vestager\\u2019s ruling. \\u201cAs Amazon has been taxed in accordance with the tax rules applicable at the relevant time, Luxembourg considers that the company has not been granted incompatible state aid,\\u201d it said.\\nIt is not illegal in the European Union for member states to attempt to lure businesses by lowering corporate tax rates. But, as with Amazon\\u2019s agreement with Luxembourg, offering special deals to select companies that are not made available to rivals can amount to \\u201cillegal state aid.\\u201d\\nThe investigations are among several in which commission officials have looked into the affairs of Silicon Valley companies. Regulators in Brussels are challenging Google and Qualcomm over alleged antitrust violations, and officials in various countries have investigated Facebook over its handling of customers\\u2019 data.\\nMs. Vestager has made taxes a priority of her term as Europe\\u2019s competition commissioner. In that time, she has penalized Starbucks in the Netherlands and Anheuser-Busch InBev in Belgium. But Luxembourg has been a particular target: In 2015, she told the country to claw back about \\u20ac30 million from a Fiat Chrysler unit, while a case considering Luxembourg\\u2019s treatment of McDonald\\u2019s is also continuing.\\nAdvertisement Continue reading the main story\\n\\u201cI don\\u2019t think that we\\u2019re done,\\u201d Ms. Vestager said on Wednesday, adding that new laws were also necessary. \\u201cThe main part of the solution is of course that we have legislation that gives you a transparent tax landscape and enables national tax authorities to do their job.\\u201d\\nA broader overhaul may be afoot. The European Commission published proposals last month under which internet companies would be taxed in the countries where they generated revenue. Such a shift would mean the companies could not move their profits to jurisdictions with lower taxes.\\nA push in that direction could, however, prove complicated and carries several risks, said Clemens Fuest, the director of the Ifo Institute for Economic Research, a prominent think tank in Germany. In particular, European governments still might devise a host of new incentives to lure investment, while legislative changes at the European level could prompt retaliation by major trading partners.\\n\\u201cThere are real dangers if Brussels keeps acting unilaterally,\\u201d Mr. Fuest said.\\nThe European Union stepped up efforts to curb tax avoidance by companies and by individuals after the financial crisis, which forced many of the bloc\\u2019s member states to cut public services and raise tax rates. But opponents of the austerity programs argued that big corporations had not faced the same pressures, partly because they have long been able to shift their profits to low-tax countries.\"\n        ],\n        \"semantic_type\": \"\",\n        \"description\": \"\"\n      }\n    },\n    {\n      \"column\": \"Label\",\n      \"properties\": {\n        \"dtype\": \"number\",\n        \"std\": 0,\n        \"min\": 0,\n        \"max\": 1,\n        \"num_unique_values\": 2,\n        \"samples\": [\n          0,\n          1\n        ],\n        \"semantic_type\": \"\",\n        \"description\": \"\"\n      }\n    }\n  ]\n}"
            }
          },
          "metadata": {},
          "execution_count": 11
        }
      ]
    },
    {
      "cell_type": "code",
      "source": [
        "fakenews_ds = fakenews_ds.drop(columns=['Headline'], axis=1)\n",
        "fakenews_ds"
      ],
      "metadata": {
        "colab": {
          "base_uri": "https://localhost:8080/",
          "height": 424
        },
        "id": "jnkeTWxiBH87",
        "outputId": "dabde185-3987-407a-c458-22a098e03d5e"
      },
      "execution_count": null,
      "outputs": [
        {
          "output_type": "execute_result",
          "data": {
            "text/plain": [
              "                                                   URLs  \\\n",
              "0     http://www.bbc.com/news/world-us-canada-414191...   \n",
              "1     https://www.reuters.com/article/us-filmfestiva...   \n",
              "2     https://www.nytimes.com/2017/10/09/us/politics...   \n",
              "3     https://www.reuters.com/article/us-mexico-oil-...   \n",
              "4     http://www.cnn.com/videos/cnnmoney/2017/10/08/...   \n",
              "...                                                 ...   \n",
              "4003  http://beforeitsnews.com/u-s-politics/2017/10/...   \n",
              "4004  http://beforeitsnews.com/sports/2017/09/trends...   \n",
              "4005  http://beforeitsnews.com/u-s-politics/2017/10/...   \n",
              "4007  https://www.reuters.com/article/us-china-pharm...   \n",
              "4008  http://beforeitsnews.com/u-s-politics/2017/10/...   \n",
              "\n",
              "                                                   Body  Label  \n",
              "0     Image copyright Getty Images\\nOn Sunday mornin...      1  \n",
              "1     LONDON (Reuters) - “Last Flag Flying”, a comed...      1  \n",
              "2     The feud broke into public view last week when...      1  \n",
              "3     MEXICO CITY (Reuters) - Egypt’s Cheiron Holdin...      1  \n",
              "4     Country singer Jason Aldean, who was performin...      1  \n",
              "...                                                 ...    ...  \n",
              "4003  Vietnam Is in Great Danger, You Must Publish a...      0  \n",
              "4004  Trends to Watch\\n% of readers think this story...      0  \n",
              "4005  Trump Jr. Is Soon To Give A 30-Minute Speech F...      0  \n",
              "4007  SHANGHAI (Reuters) - China said it plans to ac...      1  \n",
              "4008  Vice President Mike Pence Leaves NFL Game Beca...      0  \n",
              "\n",
              "[3988 rows x 3 columns]"
            ],
            "text/html": [
              "\n",
              "  <div id=\"df-9abb0883-ee7c-4275-87c1-a16ede889c8b\" class=\"colab-df-container\">\n",
              "    <div>\n",
              "<style scoped>\n",
              "    .dataframe tbody tr th:only-of-type {\n",
              "        vertical-align: middle;\n",
              "    }\n",
              "\n",
              "    .dataframe tbody tr th {\n",
              "        vertical-align: top;\n",
              "    }\n",
              "\n",
              "    .dataframe thead th {\n",
              "        text-align: right;\n",
              "    }\n",
              "</style>\n",
              "<table border=\"1\" class=\"dataframe\">\n",
              "  <thead>\n",
              "    <tr style=\"text-align: right;\">\n",
              "      <th></th>\n",
              "      <th>URLs</th>\n",
              "      <th>Body</th>\n",
              "      <th>Label</th>\n",
              "    </tr>\n",
              "  </thead>\n",
              "  <tbody>\n",
              "    <tr>\n",
              "      <th>0</th>\n",
              "      <td>http://www.bbc.com/news/world-us-canada-414191...</td>\n",
              "      <td>Image copyright Getty Images\\nOn Sunday mornin...</td>\n",
              "      <td>1</td>\n",
              "    </tr>\n",
              "    <tr>\n",
              "      <th>1</th>\n",
              "      <td>https://www.reuters.com/article/us-filmfestiva...</td>\n",
              "      <td>LONDON (Reuters) - “Last Flag Flying”, a comed...</td>\n",
              "      <td>1</td>\n",
              "    </tr>\n",
              "    <tr>\n",
              "      <th>2</th>\n",
              "      <td>https://www.nytimes.com/2017/10/09/us/politics...</td>\n",
              "      <td>The feud broke into public view last week when...</td>\n",
              "      <td>1</td>\n",
              "    </tr>\n",
              "    <tr>\n",
              "      <th>3</th>\n",
              "      <td>https://www.reuters.com/article/us-mexico-oil-...</td>\n",
              "      <td>MEXICO CITY (Reuters) - Egypt’s Cheiron Holdin...</td>\n",
              "      <td>1</td>\n",
              "    </tr>\n",
              "    <tr>\n",
              "      <th>4</th>\n",
              "      <td>http://www.cnn.com/videos/cnnmoney/2017/10/08/...</td>\n",
              "      <td>Country singer Jason Aldean, who was performin...</td>\n",
              "      <td>1</td>\n",
              "    </tr>\n",
              "    <tr>\n",
              "      <th>...</th>\n",
              "      <td>...</td>\n",
              "      <td>...</td>\n",
              "      <td>...</td>\n",
              "    </tr>\n",
              "    <tr>\n",
              "      <th>4003</th>\n",
              "      <td>http://beforeitsnews.com/u-s-politics/2017/10/...</td>\n",
              "      <td>Vietnam Is in Great Danger, You Must Publish a...</td>\n",
              "      <td>0</td>\n",
              "    </tr>\n",
              "    <tr>\n",
              "      <th>4004</th>\n",
              "      <td>http://beforeitsnews.com/sports/2017/09/trends...</td>\n",
              "      <td>Trends to Watch\\n% of readers think this story...</td>\n",
              "      <td>0</td>\n",
              "    </tr>\n",
              "    <tr>\n",
              "      <th>4005</th>\n",
              "      <td>http://beforeitsnews.com/u-s-politics/2017/10/...</td>\n",
              "      <td>Trump Jr. Is Soon To Give A 30-Minute Speech F...</td>\n",
              "      <td>0</td>\n",
              "    </tr>\n",
              "    <tr>\n",
              "      <th>4007</th>\n",
              "      <td>https://www.reuters.com/article/us-china-pharm...</td>\n",
              "      <td>SHANGHAI (Reuters) - China said it plans to ac...</td>\n",
              "      <td>1</td>\n",
              "    </tr>\n",
              "    <tr>\n",
              "      <th>4008</th>\n",
              "      <td>http://beforeitsnews.com/u-s-politics/2017/10/...</td>\n",
              "      <td>Vice President Mike Pence Leaves NFL Game Beca...</td>\n",
              "      <td>0</td>\n",
              "    </tr>\n",
              "  </tbody>\n",
              "</table>\n",
              "<p>3988 rows × 3 columns</p>\n",
              "</div>\n",
              "    <div class=\"colab-df-buttons\">\n",
              "\n",
              "  <div class=\"colab-df-container\">\n",
              "    <button class=\"colab-df-convert\" onclick=\"convertToInteractive('df-9abb0883-ee7c-4275-87c1-a16ede889c8b')\"\n",
              "            title=\"Convert this dataframe to an interactive table.\"\n",
              "            style=\"display:none;\">\n",
              "\n",
              "  <svg xmlns=\"http://www.w3.org/2000/svg\" height=\"24px\" viewBox=\"0 -960 960 960\">\n",
              "    <path d=\"M120-120v-720h720v720H120Zm60-500h600v-160H180v160Zm220 220h160v-160H400v160Zm0 220h160v-160H400v160ZM180-400h160v-160H180v160Zm440 0h160v-160H620v160ZM180-180h160v-160H180v160Zm440 0h160v-160H620v160Z\"/>\n",
              "  </svg>\n",
              "    </button>\n",
              "\n",
              "  <style>\n",
              "    .colab-df-container {\n",
              "      display:flex;\n",
              "      gap: 12px;\n",
              "    }\n",
              "\n",
              "    .colab-df-convert {\n",
              "      background-color: #E8F0FE;\n",
              "      border: none;\n",
              "      border-radius: 50%;\n",
              "      cursor: pointer;\n",
              "      display: none;\n",
              "      fill: #1967D2;\n",
              "      height: 32px;\n",
              "      padding: 0 0 0 0;\n",
              "      width: 32px;\n",
              "    }\n",
              "\n",
              "    .colab-df-convert:hover {\n",
              "      background-color: #E2EBFA;\n",
              "      box-shadow: 0px 1px 2px rgba(60, 64, 67, 0.3), 0px 1px 3px 1px rgba(60, 64, 67, 0.15);\n",
              "      fill: #174EA6;\n",
              "    }\n",
              "\n",
              "    .colab-df-buttons div {\n",
              "      margin-bottom: 4px;\n",
              "    }\n",
              "\n",
              "    [theme=dark] .colab-df-convert {\n",
              "      background-color: #3B4455;\n",
              "      fill: #D2E3FC;\n",
              "    }\n",
              "\n",
              "    [theme=dark] .colab-df-convert:hover {\n",
              "      background-color: #434B5C;\n",
              "      box-shadow: 0px 1px 3px 1px rgba(0, 0, 0, 0.15);\n",
              "      filter: drop-shadow(0px 1px 2px rgba(0, 0, 0, 0.3));\n",
              "      fill: #FFFFFF;\n",
              "    }\n",
              "  </style>\n",
              "\n",
              "    <script>\n",
              "      const buttonEl =\n",
              "        document.querySelector('#df-9abb0883-ee7c-4275-87c1-a16ede889c8b button.colab-df-convert');\n",
              "      buttonEl.style.display =\n",
              "        google.colab.kernel.accessAllowed ? 'block' : 'none';\n",
              "\n",
              "      async function convertToInteractive(key) {\n",
              "        const element = document.querySelector('#df-9abb0883-ee7c-4275-87c1-a16ede889c8b');\n",
              "        const dataTable =\n",
              "          await google.colab.kernel.invokeFunction('convertToInteractive',\n",
              "                                                    [key], {});\n",
              "        if (!dataTable) return;\n",
              "\n",
              "        const docLinkHtml = 'Like what you see? Visit the ' +\n",
              "          '<a target=\"_blank\" href=https://colab.research.google.com/notebooks/data_table.ipynb>data table notebook</a>'\n",
              "          + ' to learn more about interactive tables.';\n",
              "        element.innerHTML = '';\n",
              "        dataTable['output_type'] = 'display_data';\n",
              "        await google.colab.output.renderOutput(dataTable, element);\n",
              "        const docLink = document.createElement('div');\n",
              "        docLink.innerHTML = docLinkHtml;\n",
              "        element.appendChild(docLink);\n",
              "      }\n",
              "    </script>\n",
              "  </div>\n",
              "\n",
              "\n",
              "<div id=\"df-188748e0-265c-4d50-bf00-67b922f12446\">\n",
              "  <button class=\"colab-df-quickchart\" onclick=\"quickchart('df-188748e0-265c-4d50-bf00-67b922f12446')\"\n",
              "            title=\"Suggest charts\"\n",
              "            style=\"display:none;\">\n",
              "\n",
              "<svg xmlns=\"http://www.w3.org/2000/svg\" height=\"24px\"viewBox=\"0 0 24 24\"\n",
              "     width=\"24px\">\n",
              "    <g>\n",
              "        <path d=\"M19 3H5c-1.1 0-2 .9-2 2v14c0 1.1.9 2 2 2h14c1.1 0 2-.9 2-2V5c0-1.1-.9-2-2-2zM9 17H7v-7h2v7zm4 0h-2V7h2v10zm4 0h-2v-4h2v4z\"/>\n",
              "    </g>\n",
              "</svg>\n",
              "  </button>\n",
              "\n",
              "<style>\n",
              "  .colab-df-quickchart {\n",
              "      --bg-color: #E8F0FE;\n",
              "      --fill-color: #1967D2;\n",
              "      --hover-bg-color: #E2EBFA;\n",
              "      --hover-fill-color: #174EA6;\n",
              "      --disabled-fill-color: #AAA;\n",
              "      --disabled-bg-color: #DDD;\n",
              "  }\n",
              "\n",
              "  [theme=dark] .colab-df-quickchart {\n",
              "      --bg-color: #3B4455;\n",
              "      --fill-color: #D2E3FC;\n",
              "      --hover-bg-color: #434B5C;\n",
              "      --hover-fill-color: #FFFFFF;\n",
              "      --disabled-bg-color: #3B4455;\n",
              "      --disabled-fill-color: #666;\n",
              "  }\n",
              "\n",
              "  .colab-df-quickchart {\n",
              "    background-color: var(--bg-color);\n",
              "    border: none;\n",
              "    border-radius: 50%;\n",
              "    cursor: pointer;\n",
              "    display: none;\n",
              "    fill: var(--fill-color);\n",
              "    height: 32px;\n",
              "    padding: 0;\n",
              "    width: 32px;\n",
              "  }\n",
              "\n",
              "  .colab-df-quickchart:hover {\n",
              "    background-color: var(--hover-bg-color);\n",
              "    box-shadow: 0 1px 2px rgba(60, 64, 67, 0.3), 0 1px 3px 1px rgba(60, 64, 67, 0.15);\n",
              "    fill: var(--button-hover-fill-color);\n",
              "  }\n",
              "\n",
              "  .colab-df-quickchart-complete:disabled,\n",
              "  .colab-df-quickchart-complete:disabled:hover {\n",
              "    background-color: var(--disabled-bg-color);\n",
              "    fill: var(--disabled-fill-color);\n",
              "    box-shadow: none;\n",
              "  }\n",
              "\n",
              "  .colab-df-spinner {\n",
              "    border: 2px solid var(--fill-color);\n",
              "    border-color: transparent;\n",
              "    border-bottom-color: var(--fill-color);\n",
              "    animation:\n",
              "      spin 1s steps(1) infinite;\n",
              "  }\n",
              "\n",
              "  @keyframes spin {\n",
              "    0% {\n",
              "      border-color: transparent;\n",
              "      border-bottom-color: var(--fill-color);\n",
              "      border-left-color: var(--fill-color);\n",
              "    }\n",
              "    20% {\n",
              "      border-color: transparent;\n",
              "      border-left-color: var(--fill-color);\n",
              "      border-top-color: var(--fill-color);\n",
              "    }\n",
              "    30% {\n",
              "      border-color: transparent;\n",
              "      border-left-color: var(--fill-color);\n",
              "      border-top-color: var(--fill-color);\n",
              "      border-right-color: var(--fill-color);\n",
              "    }\n",
              "    40% {\n",
              "      border-color: transparent;\n",
              "      border-right-color: var(--fill-color);\n",
              "      border-top-color: var(--fill-color);\n",
              "    }\n",
              "    60% {\n",
              "      border-color: transparent;\n",
              "      border-right-color: var(--fill-color);\n",
              "    }\n",
              "    80% {\n",
              "      border-color: transparent;\n",
              "      border-right-color: var(--fill-color);\n",
              "      border-bottom-color: var(--fill-color);\n",
              "    }\n",
              "    90% {\n",
              "      border-color: transparent;\n",
              "      border-bottom-color: var(--fill-color);\n",
              "    }\n",
              "  }\n",
              "</style>\n",
              "\n",
              "  <script>\n",
              "    async function quickchart(key) {\n",
              "      const quickchartButtonEl =\n",
              "        document.querySelector('#' + key + ' button');\n",
              "      quickchartButtonEl.disabled = true;  // To prevent multiple clicks.\n",
              "      quickchartButtonEl.classList.add('colab-df-spinner');\n",
              "      try {\n",
              "        const charts = await google.colab.kernel.invokeFunction(\n",
              "            'suggestCharts', [key], {});\n",
              "      } catch (error) {\n",
              "        console.error('Error during call to suggestCharts:', error);\n",
              "      }\n",
              "      quickchartButtonEl.classList.remove('colab-df-spinner');\n",
              "      quickchartButtonEl.classList.add('colab-df-quickchart-complete');\n",
              "    }\n",
              "    (() => {\n",
              "      let quickchartButtonEl =\n",
              "        document.querySelector('#df-188748e0-265c-4d50-bf00-67b922f12446 button');\n",
              "      quickchartButtonEl.style.display =\n",
              "        google.colab.kernel.accessAllowed ? 'block' : 'none';\n",
              "    })();\n",
              "  </script>\n",
              "</div>\n",
              "\n",
              "  <div id=\"id_3a7c04a9-5a05-40a2-a716-75a4ad8dde7c\">\n",
              "    <style>\n",
              "      .colab-df-generate {\n",
              "        background-color: #E8F0FE;\n",
              "        border: none;\n",
              "        border-radius: 50%;\n",
              "        cursor: pointer;\n",
              "        display: none;\n",
              "        fill: #1967D2;\n",
              "        height: 32px;\n",
              "        padding: 0 0 0 0;\n",
              "        width: 32px;\n",
              "      }\n",
              "\n",
              "      .colab-df-generate:hover {\n",
              "        background-color: #E2EBFA;\n",
              "        box-shadow: 0px 1px 2px rgba(60, 64, 67, 0.3), 0px 1px 3px 1px rgba(60, 64, 67, 0.15);\n",
              "        fill: #174EA6;\n",
              "      }\n",
              "\n",
              "      [theme=dark] .colab-df-generate {\n",
              "        background-color: #3B4455;\n",
              "        fill: #D2E3FC;\n",
              "      }\n",
              "\n",
              "      [theme=dark] .colab-df-generate:hover {\n",
              "        background-color: #434B5C;\n",
              "        box-shadow: 0px 1px 3px 1px rgba(0, 0, 0, 0.15);\n",
              "        filter: drop-shadow(0px 1px 2px rgba(0, 0, 0, 0.3));\n",
              "        fill: #FFFFFF;\n",
              "      }\n",
              "    </style>\n",
              "    <button class=\"colab-df-generate\" onclick=\"generateWithVariable('fakenews_ds')\"\n",
              "            title=\"Generate code using this dataframe.\"\n",
              "            style=\"display:none;\">\n",
              "\n",
              "  <svg xmlns=\"http://www.w3.org/2000/svg\" height=\"24px\"viewBox=\"0 0 24 24\"\n",
              "       width=\"24px\">\n",
              "    <path d=\"M7,19H8.4L18.45,9,17,7.55,7,17.6ZM5,21V16.75L18.45,3.32a2,2,0,0,1,2.83,0l1.4,1.43a1.91,1.91,0,0,1,.58,1.4,1.91,1.91,0,0,1-.58,1.4L9.25,21ZM18.45,9,17,7.55Zm-12,3A5.31,5.31,0,0,0,4.9,8.1,5.31,5.31,0,0,0,1,6.5,5.31,5.31,0,0,0,4.9,4.9,5.31,5.31,0,0,0,6.5,1,5.31,5.31,0,0,0,8.1,4.9,5.31,5.31,0,0,0,12,6.5,5.46,5.46,0,0,0,6.5,12Z\"/>\n",
              "  </svg>\n",
              "    </button>\n",
              "    <script>\n",
              "      (() => {\n",
              "      const buttonEl =\n",
              "        document.querySelector('#id_3a7c04a9-5a05-40a2-a716-75a4ad8dde7c button.colab-df-generate');\n",
              "      buttonEl.style.display =\n",
              "        google.colab.kernel.accessAllowed ? 'block' : 'none';\n",
              "\n",
              "      buttonEl.onclick = () => {\n",
              "        google.colab.notebook.generateWithVariable('fakenews_ds');\n",
              "      }\n",
              "      })();\n",
              "    </script>\n",
              "  </div>\n",
              "\n",
              "    </div>\n",
              "  </div>\n"
            ],
            "application/vnd.google.colaboratory.intrinsic+json": {
              "type": "dataframe",
              "variable_name": "fakenews_ds",
              "summary": "{\n  \"name\": \"fakenews_ds\",\n  \"rows\": 3988,\n  \"fields\": [\n    {\n      \"column\": \"URLs\",\n      \"properties\": {\n        \"dtype\": \"string\",\n        \"num_unique_values\": 3332,\n        \"samples\": [\n          \"https://www.reuters.com/article/us-ukraine-crisis-russia-microsoft/exclusive-despite-sanctions-russian-organizations-acquire-microsoft-software-idUSKBN1CG0NS\\n\",\n          \"http://beforeitsnews.com/sports/2017/09/college-football-mel-kiper-and-todd-mcshays-list-of-most-exciting-players-to-watch-2701174.html\\n\\n\",\n          \"http://beforeitsnews.com/u-s-politics/2017/10/chicago-cubs-relievers-choke-away-all-but-certain-win-as-nationals-tie-nlds-at-1-1-2537563.html\\r\\n\"\n        ],\n        \"semantic_type\": \"\",\n        \"description\": \"\"\n      }\n    },\n    {\n      \"column\": \"Body\",\n      \"properties\": {\n        \"dtype\": \"string\",\n        \"num_unique_values\": 2863,\n        \"samples\": [\n          \"Ahead of Foster the People's show at the \\\"All Things Go\\\" festival in Washington, lead singer Mark Foster tells #GetPolitical how the Vegas shooting changed him.\",\n          \"This was a break from the usual \\u2014 for rock acts in general and this one in particular. It was \\u201cweird\\u201d and conceptual in all the ways Mr. Petty\\u2019s music was vividly normal. They were casting themselves as survivors of some pre-video age. I don\\u2019t think I actually heard \\u201cYou Got Lucky\\u201d because I had seen it. And it looked stoned.\\nAdvertisement Continue reading the main story\\nIn the week or so since his death last Monday, Mr. Petty has been memorialized as carrying some kind of classic-rock baton, which came as a surprise to me since all my first encounters with him happened on MTV. That\\u2019s a rock-critic distinction. And it makes sense for the purists to lay their claim. Mr. Petty has never sounded out of place in a block crammed with, say, \\u201cStairway to Heaven,\\u201d \\u201cHotel California\\u201d and \\u201cLegs.\\u201d But Mr. Petty belonged as much to MTV, alongside Duran Duran and Cyndi Lauper, as he did to the old-guard rigidity of whatever is meant by \\u201cclassic rock.\\u201d\\nIt\\u2019s true, there was a classicism to his approach to rock, whether he was on his own, recording with the Heartbreakers or with the Traveling Wilburys, a sort of rock-historical Avengers. But his elasticity and economy (a Tom Petty song rarely made it past the four-minute mark) and the sweet spot it deeply satisfied over and over, were hallmarks of pop.\\nMr. Petty\\u2019s nuttiest contribution to the video era was \\u201cDon\\u2019t Come Around Here No More,\\u201d from 1985. It riffs on the Mad Hatter\\u2019s tea party from \\u201cAlice in Wonderland\\u201d with Mr. Petty as the Hatter. The props (edible teacups, mushroom tuffets) and costumes were surreally proportioned and druggie. Mr. Petty briefly either shrinks inside his outfit or his clothes turn enormous. But what\\u2019s freaky about the clip is what a creep he pretends to be, leaping from one end of the enormous dining table to where Alice sits at the other and appearing to chase her around the checkerboard set.\\nEventually, she\\u2019s trapped in the teacup and her body turns into a cake that the band and the Hatter all find good enough to eat. So they hack into her. In the final shot, the camera pans from a screaming Alice to a close-up of Mr. Petty gobbling her up. He wears the same bemused expression the entire time and, courtesy of his sunglasses, never lets you see his eyes. He was opium-den Willy Wonka. It was a look he\\u2019d often return to.\\nNewsletter Sign Up Continue reading the main story Sign Up for the Louder Newsletter Every week, stay on top of the latest in pop and jazz with reviews, interviews, podcasts and more from The New York Times music critics. Please verify you're not a robot by clicking the box. Invalid email address. Please re-enter. You must select a newsletter to subscribe to. Sign Up You agree to receive occasional updates and special offers for The New York Times's products and services. Thank you for subscribing. An error has occurred. Please try again later. View all New York Times newsletters.\\nIf \\u201cDon\\u2019t Come Around Here\\u201d is your second or third Tom Petty music-video experience, it may have been formative. Michael Jackson was a werewolf-zombie. Madonna rolled around in gondolas. Prince did splits. Tom Petty ate people. I always found that funny given how little his face appeared to do. You\\u2019d watch these videos and wonder how such a pleasingly distinctive sound could come out of a mouth that never seemed to open.\\nMr. Petty\\u2019s approach to being on MTV was not to take it more seriously than he had to. His sense of frivolity came with a coating of stranger-danger. \\u201cI Won\\u2019t Back Down\\u201d kicks off with him, still outfitted like the Mad Hatter, lifting the lid of a gift box. The camera peers inside, revealing Mr. Petty and a band playing the song on a stark, black set. Before the guitars start to cry and chug, there\\u2019s a natural studio silence that always terrified me. Who knows why? But some of it is the dark-magician he\\u2019d styled himself as.\\nThe hat and the shades seemed to keep him in disguise. It took a long time to remember that when his career in music videos started \\u2014 with \\u201cRefugee,\\u201d to pick one hypnotically shabby-looking performance \\u2014 he looked like the average girl\\u2019s prom date: cuter than you thought. By the time of \\u201cInto the Great Wide Open,\\u201d from 1991, Mr. Petty wore another ridiculous hat and wire-rimmed glasses. This time the Mad Hatter was an omniscient narrator of the song\\u2019s music-biz blues. It\\u2019s an imaginative, fitfully humorous literalizing of the song. Johnny Depp plays Eddie, a clich\\u00e9 rock star, and Faye Dunaway has a ball portraying his back-stabbed manager. (Mr. Petty himself takes on about four different parts.) The music-video veteran Julian Temple directed it, and he worked with a poignant tinge of bloat. Accordingly to Mr. Petty, in Peter Bogdanovich\\u2019s exhaustingly thorough documentary, \\u201cRunnin\\u2019 Down a Dream,\\u201d Mr. Temple originally shot a 17-minute version.\\nThe videos got at a kind of truth about Mr. Petty. Lots of his songs featured power contests between himself and unspecified forces, like record labels. Commands like \\u201cdon\\u2019t,\\u201d \\u201cwon\\u2019t,\\u201d \\u201cstop\\u201d and \\u201cquit\\u201d recur. Maybe some of the clips were a fantasy of a straightforward control he struggled for in his music. Of course, as a listener, you often heard struggle\\u2019s opposite. You felt the joy of the music\\u2019s thrum and jangle. The songs took three-chord structure and made little origami. In videos, he never seemed impressed.\\nAdvertisement Continue reading the main story\\nThat was the other thing about them. Watching them was an exercise in cognitive dissonance. For the dramatization of the ecstasy a listener feels hearing a Tom Petty song, you had to go to the movies. You had to see Tom Cruise, in Cameron Crowe\\u2019s \\u201cJerry Maguire,\\u201d searching a car radio for a song that matched his money-loving mood, settling on \\u201cFree Fallin.\\u2019\\u201d It\\u2019s one of the most casually human things Mr. Cruise has done in a movie. He practically hits the roof of his car by the time the chorus comes around.\\nJerry, of course, is hearing the bright side of a song whose sense of loneliness never occurs to Mr. Cruise. But the movie gets the irony that, really, Jerry is, Wile E. Coyote, out of road to run.\\nThen there\\u2019s Brooke Smith in Jonathan Demme\\u2019s \\u201cThe Silence of the Lambs,\\u201d rocking out to \\u201cAmerican Girl.\\u201d There\\u2019s only one way to experience this song, and Smith\\u2019s is it: pounding on the steering wheel. Mr. Petty really is one of those artists who makes you feel like you could drive a car forever. Smith\\u2019s character is about to be beaten unconscious, trapped in a van and made to live at the bottom of a dry well. But for a brief moment, she\\u2019s happy, feeling the opposite of what Mr. Petty\\u2019s song is actually about: letdowns.\\nThat, of course, was his cleverness as a writer. He wrote major-key bummers. A listener didn\\u2019t know what was hitting him until he knew. Obviously, Mr. Petty knew. The young me was never ready for those old Petty videos. To a kid, that Wile E. Coyote feeling describes a cartoon. For everybody else, it\\u2019s just life.\",\n          \"European officials are increasingly trying to counter that narrative.\\nOn Wednesday, Margrethe Vestager, the European Union\\u2019s competition commissioner, ordered Luxembourg to collect around 250 million euros, or about $293 million, in unpaid taxes from Amazon. The ruling was tied to an agreement between the country and the company that the European Commission, the bloc\\u2019s executive arm, said dated to 2003.\\nThe order resembles a similar move the commission made last year, when it directed Ireland to reclaim around $15.2 billion from Apple.\\nIreland fears that such a decision could make it a less attractive place for multinational companies. In a sign of the disquiet in Dublin about that order, the Irish government failed to meet a January deadline to collect the money. It has appealed the ruling.\\nThat earned Ireland a forceful rebuke from Ms. Vestager.\\nA year later, \\u201cIreland has not recovered any money, not even in part,\\u201d she said, warning the country to accelerate its efforts to avoid \\u201cmore conflictual waters,\\u201d a reference to the prospects for a lengthy court battle.\\nAlthough litigation to force Ireland to recoup the taxes could drag on for years, the commission has successfully sued countries in the past and punished them with large fines for failing to recover money from companies that received illegal state aid.\\nAt the time of the ruling, Europe\\u2019s competition watchdogs said that Apple\\u2019s arrangements with Dublin were illegal and had ensured the iPhone maker paid virtually nothing on its European business in some years. Brussels argued that the deals allowed Apple to funnel profit from two Irish subsidiaries to an office in which it had \\u201cno employees, no premises, no real activities.\\u201d\\nThe Irish Department of Finance said that it \\u201chas never accepted the commission\\u2019s analysis\\u201d in the Apple case and that it was taken aback by Ms. Vestager\\u2019s decision to take the country to court. The department said it had \\u201cmade significant progress on this complex issue\\u201d and accused the European authorities of taking a \\u201cwholly unnecessary step.\\u201d\\nAdvertisement Continue reading the main story\\nApple did not immediately comment on the latest move, but has criticized the ruling in the past. The original decision has also drawn the ire of the United States Treasury Department.\\nNewsletter Sign Up Continue reading the main story Please verify you're not a robot by clicking the box. Invalid email address. Please re-enter. You must select a newsletter to subscribe to. Sign Up You agree to receive occasional updates and special offers for The New York Times's products and services. Thank you for subscribing. An error has occurred. Please try again later. View all New York Times newsletters.\\nIn the case of Amazon, the commission said Wednesday that Luxembourg had reduced its tax bill for more than eight years, from 2006 to 2014, and had conferred on the company a selective advantage. The arrangement essentially capped the amount of tax that the retailer paid, and relied on a method known as transfer pricing.\\nTypically, transfer pricing has been used by companies to assign revenues and profits to different business units depending on their location, role in the overall company and assets. But that system is harder to police with technology companies because many of their biggest assets, like intellectual property, are intangible. The European Commission said that Amazon had abused this system by sending most of its European revenue to a Luxembourg subsidiary that was not liable to pay corporate tax, helping the company cut its overall bill.\\nMs. Vestager said the arrangement had \\u201cno valid economic justification\\u201d and that the company had been able to \\u201cavoid taxation on almost three quarters of the profits it made from all Amazon sales in the E.U.\\u201d\\nAmazon and Luxembourg have denied the charges.\\n\\u201cWe believe that Amazon did not receive any special treatment from Luxembourg,\\u201d the company said in a statement on Wednesday, adding that it \\u201cpaid tax in full accordance with both Luxembourg and international tax law.\\u201d\\nAmazon said it would study the commission\\u2019s ruling and was considering whether to appeal.\\nIn a statement, Luxembourg\\u2019s finance ministry also contested Ms. Vestager\\u2019s ruling. \\u201cAs Amazon has been taxed in accordance with the tax rules applicable at the relevant time, Luxembourg considers that the company has not been granted incompatible state aid,\\u201d it said.\\nIt is not illegal in the European Union for member states to attempt to lure businesses by lowering corporate tax rates. But, as with Amazon\\u2019s agreement with Luxembourg, offering special deals to select companies that are not made available to rivals can amount to \\u201cillegal state aid.\\u201d\\nThe investigations are among several in which commission officials have looked into the affairs of Silicon Valley companies. Regulators in Brussels are challenging Google and Qualcomm over alleged antitrust violations, and officials in various countries have investigated Facebook over its handling of customers\\u2019 data.\\nMs. Vestager has made taxes a priority of her term as Europe\\u2019s competition commissioner. In that time, she has penalized Starbucks in the Netherlands and Anheuser-Busch InBev in Belgium. But Luxembourg has been a particular target: In 2015, she told the country to claw back about \\u20ac30 million from a Fiat Chrysler unit, while a case considering Luxembourg\\u2019s treatment of McDonald\\u2019s is also continuing.\\nAdvertisement Continue reading the main story\\n\\u201cI don\\u2019t think that we\\u2019re done,\\u201d Ms. Vestager said on Wednesday, adding that new laws were also necessary. \\u201cThe main part of the solution is of course that we have legislation that gives you a transparent tax landscape and enables national tax authorities to do their job.\\u201d\\nA broader overhaul may be afoot. The European Commission published proposals last month under which internet companies would be taxed in the countries where they generated revenue. Such a shift would mean the companies could not move their profits to jurisdictions with lower taxes.\\nA push in that direction could, however, prove complicated and carries several risks, said Clemens Fuest, the director of the Ifo Institute for Economic Research, a prominent think tank in Germany. In particular, European governments still might devise a host of new incentives to lure investment, while legislative changes at the European level could prompt retaliation by major trading partners.\\n\\u201cThere are real dangers if Brussels keeps acting unilaterally,\\u201d Mr. Fuest said.\\nThe European Union stepped up efforts to curb tax avoidance by companies and by individuals after the financial crisis, which forced many of the bloc\\u2019s member states to cut public services and raise tax rates. But opponents of the austerity programs argued that big corporations had not faced the same pressures, partly because they have long been able to shift their profits to low-tax countries.\"\n        ],\n        \"semantic_type\": \"\",\n        \"description\": \"\"\n      }\n    },\n    {\n      \"column\": \"Label\",\n      \"properties\": {\n        \"dtype\": \"number\",\n        \"std\": 0,\n        \"min\": 0,\n        \"max\": 1,\n        \"num_unique_values\": 2,\n        \"samples\": [\n          0,\n          1\n        ],\n        \"semantic_type\": \"\",\n        \"description\": \"\"\n      }\n    }\n  ]\n}"
            }
          },
          "metadata": {},
          "execution_count": 12
        }
      ]
    },
    {
      "cell_type": "code",
      "source": [
        "fakenews_ds['Label'].value_counts()"
      ],
      "metadata": {
        "colab": {
          "base_uri": "https://localhost:8080/"
        },
        "id": "nwiL_cJACMaF",
        "outputId": "54177df3-3d68-4caa-801a-4262e9a8859a"
      },
      "execution_count": null,
      "outputs": [
        {
          "output_type": "execute_result",
          "data": {
            "text/plain": [
              "Label\n",
              "0    2120\n",
              "1    1868\n",
              "Name: count, dtype: int64"
            ]
          },
          "metadata": {},
          "execution_count": 13
        }
      ]
    },
    {
      "cell_type": "code",
      "source": [
        "data_type = fakenews_ds['Body'].dtype\n",
        "data_type"
      ],
      "metadata": {
        "colab": {
          "base_uri": "https://localhost:8080/"
        },
        "id": "OYThklA0CXmp",
        "outputId": "4432e5c2-9d5c-4984-89c0-6976f260fd32"
      },
      "execution_count": null,
      "outputs": [
        {
          "output_type": "execute_result",
          "data": {
            "text/plain": [
              "dtype('O')"
            ]
          },
          "metadata": {},
          "execution_count": 14
        }
      ]
    },
    {
      "cell_type": "code",
      "source": [
        "import seaborn as sns\n",
        "import matplotlib.pyplot as plt\n",
        "plt.figure(figsize=(5,5))\n",
        "sns.countplot(x=fakenews_ds['Label'])\n",
        "plt.show()"
      ],
      "metadata": {
        "colab": {
          "base_uri": "https://localhost:8080/",
          "height": 465
        },
        "id": "yZgHbwYmCcW1",
        "outputId": "f5d41ffa-f3a4-443d-dd8e-58f4364a30c0"
      },
      "execution_count": null,
      "outputs": [
        {
          "output_type": "display_data",
          "data": {
            "text/plain": [
              "<Figure size 500x500 with 1 Axes>"
            ],
            "image/png": "[encoded data removed]"
          },
          "metadata": {}
        }
      ]
    },
    {
      "cell_type": "markdown",
      "source": [
        "**Stop-word removal   stemming**"
      ],
      "metadata": {
        "id": "VNTeYAPPVcuq"
      }
    },
    {
      "cell_type": "code",
      "source": [
        "import nltk\n",
        "from nltk.corpus import stopwords\n",
        "from nltk.stem import PorterStemmer"
      ],
      "metadata": {
        "id": "IfXW08ATChxF"
      },
      "execution_count": null,
      "outputs": []
    },
    {
      "cell_type": "code",
      "source": [
        "nltk.download('stopwords')"
      ],
      "metadata": {
        "colab": {
          "base_uri": "https://localhost:8080/"
        },
        "id": "2cfKQRxQCrJT",
        "outputId": "0813cccb-9888-4595-fa89-62b5e50cf0df"
      },
      "execution_count": null,
      "outputs": [
        {
          "output_type": "stream",
          "name": "stderr",
          "text": [
            "[nltk_data] Downloading package stopwords to /root/nltk_data...\n",
            "[nltk_data]   Unzipping corpora/stopwords.zip.\n"
          ]
        },
        {
          "output_type": "execute_result",
          "data": {
            "text/plain": [
              "True"
            ]
          },
          "metadata": {},
          "execution_count": 17
        }
      ]
    },
    {
      "cell_type": "code",
      "source": [
        "import nltk\n",
        "\n",
        "\n",
        "nltk.download('punkt')\n",
        "import nltk\n",
        "\n"
      ],
      "metadata": {
        "colab": {
          "base_uri": "https://localhost:8080/"
        },
        "id": "5cLbjb_PFpaC",
        "outputId": "87056e23-7498-4786-95ea-7bc11da60b83"
      },
      "execution_count": null,
      "outputs": [
        {
          "output_type": "stream",
          "name": "stderr",
          "text": [
            "[nltk_data] Downloading package punkt to /root/nltk_data...\n",
            "[nltk_data]   Unzipping tokenizers/punkt.zip.\n"
          ]
        }
      ]
    },
    {
      "cell_type": "code",
      "source": [
        "stopWords = set(stopwords.words('english'))\n",
        "stemmer = PorterStemmer()\n",
        "\n",
        "def pre_preocess_text(text):\n",
        "    words = nltk.word_tokenize(text)\n",
        "    filtered_words = [stemmer.stem(word) for word in words if word.lower() not in stopWords]\n",
        "    return ' '.join(filtered_words)\n",
        "\n",
        "\n",
        "\n"
      ],
      "metadata": {
        "id": "YjpDSHf4CwvW"
      },
      "execution_count": null,
      "outputs": []
    },
    {
      "cell_type": "code",
      "source": [
        "fakenews_ds['Body'] = fakenews_ds['Body'].apply(pre_preocess_text)\n",
        "\n",
        "print(fakenews_ds)"
      ],
      "metadata": {
        "colab": {
          "base_uri": "https://localhost:8080/"
        },
        "id": "w03BRoNyGiWK",
        "outputId": "793387ab-0d3f-4140-9fda-d989f712a5ef"
      },
      "execution_count": null,
      "outputs": [
        {
          "output_type": "stream",
          "name": "stdout",
          "text": [
            "                                                   URLs  \\\n",
            "0     http://www.bbc.com/news/world-us-canada-414191...   \n",
            "1     https://www.reuters.com/article/us-filmfestiva...   \n",
            "2     https://www.nytimes.com/2017/10/09/us/politics...   \n",
            "3     https://www.reuters.com/article/us-mexico-oil-...   \n",
            "4     http://www.cnn.com/videos/cnnmoney/2017/10/08/...   \n",
            "...                                                 ...   \n",
            "4003  http://beforeitsnews.com/u-s-politics/2017/10/...   \n",
            "4004  http://beforeitsnews.com/sports/2017/09/trends...   \n",
            "4005  http://beforeitsnews.com/u-s-politics/2017/10/...   \n",
            "4007  https://www.reuters.com/article/us-china-pharm...   \n",
            "4008  http://beforeitsnews.com/u-s-politics/2017/10/...   \n",
            "\n",
            "                                                   Body  Label  \n",
            "0     imag copyright getti imag sunday morn , donald...      1  \n",
            "1     london ( reuter ) - “ last flag fli ” , comedy...      1  \n",
            "2     feud broke public view last week mr. corker sa...      1  \n",
            "3     mexico citi ( reuter ) - egypt ’ cheiron hold ...      1  \n",
            "4     countri singer jason aldean , perform la vega ...      1  \n",
            "...                                                 ...    ...  \n",
            "4003  vietnam great danger , must publish tell armi ...      0  \n",
            "4004  trend watch % reader think stori fact . add tw...      0  \n",
            "4005  trump jr. soon give 30-minut speech $ 100,000 ...      0  \n",
            "4007  shanghai ( reuter ) - china said plan accept d...      1  \n",
            "4008  vice presid mike penc leav nfl game anti-ameri...      0  \n",
            "\n",
            "[3988 rows x 3 columns]\n"
          ]
        }
      ]
    },
    {
      "cell_type": "markdown",
      "source": [
        "**Vectorizing text**"
      ],
      "metadata": {
        "id": "A_Scg9dUV2tG"
      }
    },
    {
      "cell_type": "code",
      "source": [
        "from sklearn.feature_extraction.text import CountVectorizer\n",
        "vectorizer = CountVectorizer()\n",
        "X = vectorizer.fit_transform(fakenews_ds['Body'])\n",
        "vectorized_df = pd.DataFrame(X.toarray(), columns=vectorizer.get_feature_names_out())\n",
        "\n",
        "print(vectorized_df)"
      ],
      "metadata": {
        "colab": {
          "base_uri": "https://localhost:8080/"
        },
        "id": "-YKpSp14Io_1",
        "outputId": "10b0cafb-e553-4cad-a4c2-226a0dbadafb"
      },
      "execution_count": null,
      "outputs": [
        {
          "output_type": "stream",
          "name": "stdout",
          "text": [
            "      00  000  0000  00011189  000ft  000ha  000km  000sq  001  0011189  ...  \\\n",
            "0      0    0     0         0      0      0      0      0    0        0  ...   \n",
            "1      0    0     0         0      0      0      0      0    0        0  ...   \n",
            "2      0    0     0         0      0      0      0      0    0        0  ...   \n",
            "3      0    0     0         0      0      0      0      0    0        0  ...   \n",
            "4      0    0     0         0      0      0      0      0    0        0  ...   \n",
            "...   ..  ...   ...       ...    ...    ...    ...    ...  ...      ...  ...   \n",
            "3983   0    0     0         0      0      0      0      0    0        0  ...   \n",
            "3984   0    0     0         0      0      0      0      0    0        0  ...   \n",
            "3985   0    2     0         0      0      0      0      0    0        0  ...   \n",
            "3986   0    0     0         0      0      0      0      0    0        0  ...   \n",
            "3987   0    0     0         0      0      0      0      0    0        0  ...   \n",
            "\n",
            "      zócalo  álvaro  école  émigré  ðÿ  œbrilliant  əˈnänəməs  ʺeveri  ʺhe  \\\n",
            "0          0       0      0       0   0           0          0       0    0   \n",
            "1          0       0      0       0   0           0          0       0    0   \n",
            "2          0       0      0       0   0           0          0       0    0   \n",
            "3          0       0      0       0   0           0          0       0    0   \n",
            "4          0       0      0       0   0           0          0       0    0   \n",
            "...      ...     ...    ...     ...  ..         ...        ...     ...  ...   \n",
            "3983       0       0      0       0   0           0          0       0    0   \n",
            "3984       0       0      0       0   0           0          0       0    0   \n",
            "3985       0       0      0       0   0           0          0       0    0   \n",
            "3986       0       0      0       0   0           0          0       0    0   \n",
            "3987       0       0      0       0   0           0          0       0    0   \n",
            "\n",
            "      殆ww  \n",
            "0       0  \n",
            "1       0  \n",
            "2       0  \n",
            "3       0  \n",
            "4       0  \n",
            "...   ...  \n",
            "3983    0  \n",
            "3984    0  \n",
            "3985    0  \n",
            "3986    0  \n",
            "3987    0  \n",
            "\n",
            "[3988 rows x 34828 columns]\n"
          ]
        }
      ]
    },
    {
      "cell_type": "code",
      "source": [
        "fakenews_ds['Body'] = fakenews_ds['Body'].fillna('')\n",
        "\n",
        "fakenews_ds['Body'] = fakenews_ds['Body'].astype(str)"
      ],
      "metadata": {
        "id": "bq1DdR_-JBeU"
      },
      "execution_count": null,
      "outputs": []
    },
    {
      "cell_type": "code",
      "source": [
        "from sklearn.feature_extraction.text import TfidfVectorizer\n",
        "tfidf_vectorizer = TfidfVectorizer()\n",
        "X = tfidf_vectorizer.fit_transform(fakenews_ds['Body'])\n",
        "X.shape"
      ],
      "metadata": {
        "colab": {
          "base_uri": "https://localhost:8080/"
        },
        "id": "rHm0jkorJKFd",
        "outputId": "bb783661-d754-4d16-b669-606bd2b9c6d9"
      },
      "execution_count": null,
      "outputs": [
        {
          "output_type": "execute_result",
          "data": {
            "text/plain": [
              "(3988, 34828)"
            ]
          },
          "metadata": {},
          "execution_count": 31
        }
      ]
    },
    {
      "cell_type": "code",
      "source": [
        "Y = fakenews_ds['Label']"
      ],
      "metadata": {
        "id": "bO36Ev1nJy3p"
      },
      "execution_count": null,
      "outputs": []
    },
    {
      "cell_type": "code",
      "source": [
        "print(X)"
      ],
      "metadata": {
        "colab": {
          "base_uri": "https://localhost:8080/"
        },
        "id": "pejR9cM_KMbn",
        "outputId": "47e1f93b-17a6-4aa9-ec21-7676040edd70"
      },
      "execution_count": null,
      "outputs": [
        {
          "output_type": "stream",
          "name": "stdout",
          "text": [
            "  (0, 16288)\t0.03989715392108366\n",
            "  (0, 32237)\t0.0467703942007362\n",
            "  (0, 20142)\t0.037976301123229576\n",
            "  (0, 6471)\t0.020654282896359975\n",
            "  (0, 29449)\t0.020773220537456085\n",
            "  (0, 29252)\t0.02016573229351471\n",
            "  (0, 16891)\t0.023557420737263593\n",
            "  (0, 24189)\t0.025524127599133382\n",
            "  (0, 18100)\t0.020293206814576522\n",
            "  (0, 3029)\t0.02854877629035137\n",
            "  (0, 23785)\t0.023148351007897257\n",
            "  (0, 1882)\t0.0219972436705299\n",
            "  (0, 32371)\t0.04385419273793592\n",
            "  (0, 10129)\t0.03566158180147299\n",
            "  (0, 4269)\t0.021103062461946393\n",
            "  (0, 19468)\t0.02207219617315852\n",
            "  (0, 34048)\t0.03048529110153436\n",
            "  (0, 33781)\t0.021826089087273386\n",
            "  (0, 9572)\t0.03157021207447151\n",
            "  (0, 5559)\t0.02238225247306239\n",
            "  (0, 11205)\t0.012740205262655444\n",
            "  (0, 18586)\t0.016466554095823604\n",
            "  (0, 22350)\t0.016244825244602752\n",
            "  (0, 7815)\t0.03308128900154235\n",
            "  (0, 9529)\t0.024213532962925506\n",
            "  :\t:\n",
            "  (3987, 19265)\t0.014293407927982602\n",
            "  (3987, 8603)\t0.04496226773246388\n",
            "  (3987, 18812)\t0.015776882896619385\n",
            "  (3987, 31991)\t0.012739227583276433\n",
            "  (3987, 29423)\t0.11484156151209081\n",
            "  (3987, 13429)\t0.014726963795017065\n",
            "  (3987, 25397)\t0.03189115280115029\n",
            "  (3987, 33120)\t0.24341056768180117\n",
            "  (3987, 32780)\t0.014780423738721595\n",
            "  (3987, 21041)\t0.035280622626699364\n",
            "  (3987, 11226)\t0.05012827876415964\n",
            "  (3987, 31960)\t0.08255980523738148\n",
            "  (3987, 21642)\t0.03203710286050669\n",
            "  (3987, 26048)\t0.01541490616734201\n",
            "  (3987, 587)\t0.02818242543945705\n",
            "  (3987, 33884)\t0.022612157978919314\n",
            "  (3987, 12804)\t0.02364390554560837\n",
            "  (3987, 24183)\t0.04223083845299482\n",
            "  (3987, 27010)\t0.01217071169525062\n",
            "  (3987, 24569)\t0.17512004446067317\n",
            "  (3987, 31212)\t0.01286850257871453\n",
            "  (3987, 21662)\t0.019043367575927315\n",
            "  (3987, 31990)\t0.01911302241479584\n",
            "  (3987, 31795)\t0.05807182142308524\n",
            "  (3987, 30046)\t0.021263662884103408\n"
          ]
        }
      ]
    },
    {
      "cell_type": "code",
      "source": [
        "print(Y)"
      ],
      "metadata": {
        "colab": {
          "base_uri": "https://localhost:8080/"
        },
        "id": "hcCDWmcjKP-Z",
        "outputId": "31a69c79-4580-4045-d8ce-a429b9316c0d"
      },
      "execution_count": null,
      "outputs": [
        {
          "output_type": "stream",
          "name": "stdout",
          "text": [
            "0       1\n",
            "1       1\n",
            "2       1\n",
            "3       1\n",
            "4       1\n",
            "       ..\n",
            "4003    0\n",
            "4004    0\n",
            "4005    0\n",
            "4007    1\n",
            "4008    0\n",
            "Name: Label, Length: 3988, dtype: int64\n"
          ]
        }
      ]
    },
    {
      "cell_type": "markdown",
      "source": [
        "**TRAIN-TEST-SPLIT of Data set**"
      ],
      "metadata": {
        "id": "eR7RMEP1W2TO"
      }
    },
    {
      "cell_type": "code",
      "source": [
        "from sklearn.model_selection import train_test_split\n",
        "X_train, X_test, y_train, y_test = train_test_split(X, Y, test_size=0.33, random_state=0)\n",
        "print(X.shape,X_train.shape,X_test.shape)"
      ],
      "metadata": {
        "colab": {
          "base_uri": "https://localhost:8080/"
        },
        "id": "jAFWJT4fKdST",
        "outputId": "2141f34f-5f98-412d-8ad6-be5443edc313"
      },
      "execution_count": null,
      "outputs": [
        {
          "output_type": "stream",
          "name": "stdout",
          "text": [
            "(3988, 34828) (2671, 34828) (1317, 34828)\n"
          ]
        }
      ]
    },
    {
      "cell_type": "code",
      "source": [],
      "metadata": {
        "id": "twD2eSfjXP3H"
      },
      "execution_count": null,
      "outputs": []
    },
    {
      "cell_type": "markdown",
      "source": [
        "SVC Algorithm"
      ],
      "metadata": {
        "id": "rr77AXkOXDxv"
      }
    },
    {
      "cell_type": "code",
      "source": [
        "from sklearn import svm"
      ],
      "metadata": {
        "id": "rn9ddI-2Kl2Z"
      },
      "execution_count": null,
      "outputs": []
    },
    {
      "cell_type": "code",
      "source": [
        "classifier = svm.SVC(kernel='linear')\n",
        "classifier.fit(X_train,y_train)"
      ],
      "metadata": {
        "colab": {
          "base_uri": "https://localhost:8080/",
          "height": 75
        },
        "id": "TwlftXBhKsZl",
        "outputId": "54f0ad5e-eb43-4ca6-d35b-52d1f7c86893"
      },
      "execution_count": null,
      "outputs": [
        {
          "output_type": "execute_result",
          "data": {
            "text/plain": [
              "SVC(kernel='linear')"
            ],
            "text/html": [
              "<style>#sk-container-id-1 {color: black;background-color: white;}#sk-container-id-1 pre{padding: 0;}#sk-container-id-1 div.sk-toggleable {background-color: white;}#sk-container-id-1 label.sk-toggleable__label {cursor: pointer;display: block;width: 100%;margin-bottom: 0;padding: 0.3em;box-sizing: border-box;text-align: center;}#sk-container-id-1 label.sk-toggleable__label-arrow:before {content: \"▸\";float: left;margin-right: 0.25em;color: #696969;}#sk-container-id-1 label.sk-toggleable__label-arrow:hover:before {color: black;}#sk-container-id-1 div.sk-estimator:hover label.sk-toggleable__label-arrow:before {color: black;}#sk-container-id-1 div.sk-toggleable__content {max-height: 0;max-width: 0;overflow: hidden;text-align: left;background-color: #f0f8ff;}#sk-container-id-1 div.sk-toggleable__content pre {margin: 0.2em;color: black;border-radius: 0.25em;background-color: #f0f8ff;}#sk-container-id-1 input.sk-toggleable__control:checked~div.sk-toggleable__content {max-height: 200px;max-width: 100%;overflow: auto;}#sk-container-id-1 input.sk-toggleable__control:checked~label.sk-toggleable__label-arrow:before {content: \"▾\";}#sk-container-id-1 div.sk-estimator input.sk-toggleable__control:checked~label.sk-toggleable__label {background-color: #d4ebff;}#sk-container-id-1 div.sk-label input.sk-toggleable__control:checked~label.sk-toggleable__label {background-color: #d4ebff;}#sk-container-id-1 input.sk-hidden--visually {border: 0;clip: rect(1px 1px 1px 1px);clip: rect(1px, 1px, 1px, 1px);height: 1px;margin: -1px;overflow: hidden;padding: 0;position: absolute;width: 1px;}#sk-container-id-1 div.sk-estimator {font-family: monospace;background-color: #f0f8ff;border: 1px dotted black;border-radius: 0.25em;box-sizing: border-box;margin-bottom: 0.5em;}#sk-container-id-1 div.sk-estimator:hover {background-color: #d4ebff;}#sk-container-id-1 div.sk-parallel-item::after {content: \"\";width: 100%;border-bottom: 1px solid gray;flex-grow: 1;}#sk-container-id-1 div.sk-label:hover label.sk-toggleable__label {background-color: #d4ebff;}#sk-container-id-1 div.sk-serial::before {content: \"\";position: absolute;border-left: 1px solid gray;box-sizing: border-box;top: 0;bottom: 0;left: 50%;z-index: 0;}#sk-container-id-1 div.sk-serial {display: flex;flex-direction: column;align-items: center;background-color: white;padding-right: 0.2em;padding-left: 0.2em;position: relative;}#sk-container-id-1 div.sk-item {position: relative;z-index: 1;}#sk-container-id-1 div.sk-parallel {display: flex;align-items: stretch;justify-content: center;background-color: white;position: relative;}#sk-container-id-1 div.sk-item::before, #sk-container-id-1 div.sk-parallel-item::before {content: \"\";position: absolute;border-left: 1px solid gray;box-sizing: border-box;top: 0;bottom: 0;left: 50%;z-index: -1;}#sk-container-id-1 div.sk-parallel-item {display: flex;flex-direction: column;z-index: 1;position: relative;background-color: white;}#sk-container-id-1 div.sk-parallel-item:first-child::after {align-self: flex-end;width: 50%;}#sk-container-id-1 div.sk-parallel-item:last-child::after {align-self: flex-start;width: 50%;}#sk-container-id-1 div.sk-parallel-item:only-child::after {width: 0;}#sk-container-id-1 div.sk-dashed-wrapped {border: 1px dashed gray;margin: 0 0.4em 0.5em 0.4em;box-sizing: border-box;padding-bottom: 0.4em;background-color: white;}#sk-container-id-1 div.sk-label label {font-family: monospace;font-weight: bold;display: inline-block;line-height: 1.2em;}#sk-container-id-1 div.sk-label-container {text-align: center;}#sk-container-id-1 div.sk-container {/* jupyter's `normalize.less` sets `[hidden] { display: none; }` but bootstrap.min.css set `[hidden] { display: none !important; }` so we also need the `!important` here to be able to override the default hidden behavior on the sphinx rendered scikit-learn.org. See: https://github.com/scikit-learn/scikit-learn/issues/21755 */display: inline-block !important;position: relative;}#sk-container-id-1 div.sk-text-repr-fallback {display: none;}</style><div id=\"sk-container-id-1\" class=\"sk-top-container\"><div class=\"sk-text-repr-fallback\"><pre>SVC(kernel=&#x27;linear&#x27;)</pre><b>In a Jupyter environment, please rerun this cell to show the HTML representation or trust the notebook. <br />On GitHub, the HTML representation is unable to render, please try loading this page with nbviewer.org.</b></div><div class=\"sk-container\" hidden><div class=\"sk-item\"><div class=\"sk-estimator sk-toggleable\"><input class=\"sk-toggleable__control sk-hidden--visually\" id=\"sk-estimator-id-1\" type=\"checkbox\" checked><label for=\"sk-estimator-id-1\" class=\"sk-toggleable__label sk-toggleable__label-arrow\">SVC</label><div class=\"sk-toggleable__content\"><pre>SVC(kernel=&#x27;linear&#x27;)</pre></div></div></div></div></div>"
            ]
          },
          "metadata": {},
          "execution_count": 37
        }
      ]
    },
    {
      "cell_type": "markdown",
      "source": [
        "**Accuracy score**"
      ],
      "metadata": {
        "id": "k109jdltXZ-n"
      }
    },
    {
      "cell_type": "code",
      "source": [
        "from sklearn.metrics import accuracy_score"
      ],
      "metadata": {
        "id": "TVa2Yn6qKzC8"
      },
      "execution_count": null,
      "outputs": []
    },
    {
      "cell_type": "code",
      "source": [
        "X_train_prediction = classifier.predict(X_train)\n",
        "training_data_accuracy = accuracy_score(X_train_prediction,y_train)\n",
        "print('accuracy score of training data is  :', training_data_accuracy)"
      ],
      "metadata": {
        "colab": {
          "base_uri": "https://localhost:8080/"
        },
        "id": "7y5BBUTAK14F",
        "outputId": "196994f5-d3d7-48e7-c2fb-ddb2ca2ea214"
      },
      "execution_count": null,
      "outputs": [
        {
          "output_type": "stream",
          "name": "stdout",
          "text": [
            "accuracy score of training data is  : 0.9992512167727443\n"
          ]
        }
      ]
    },
    {
      "cell_type": "code",
      "source": [
        "fakenews_ds['Body'] = fakenews_ds['Body'].fillna('')"
      ],
      "metadata": {
        "id": "LhhY9w51LCyh"
      },
      "execution_count": null,
      "outputs": []
    },
    {
      "cell_type": "code",
      "source": [
        "fakenews_ds['Body'] = fakenews_ds['Body'].astype(str)"
      ],
      "metadata": {
        "id": "b7CIVaALLIYG"
      },
      "execution_count": null,
      "outputs": []
    },
    {
      "cell_type": "code",
      "source": [
        "fakenews_ds['Body'] = fakenews_ds['Body'].astype(str)"
      ],
      "metadata": {
        "id": "_ZLMo78fLNES"
      },
      "execution_count": null,
      "outputs": []
    },
    {
      "cell_type": "code",
      "source": [
        "fakenews_ds['Body'] = fakenews_ds['Body'].astype(str)\n",
        "\n",
        "fakenews_ds['Body_lower'] = fakenews_ds['Body'].apply(lambda x: x.lower() if isinstance(x, str) else x)"
      ],
      "metadata": {
        "id": "g5_M9o53LSLd"
      },
      "execution_count": null,
      "outputs": []
    },
    {
      "cell_type": "markdown",
      "source": [
        "**Feature Engineering - using TF-IDF AND SVC Model Building**"
      ],
      "metadata": {
        "id": "7Bj3CDkBXq6V"
      }
    },
    {
      "cell_type": "code",
      "source": [
        "from sklearn.svm import SVC\n",
        "from sklearn.metrics import classification_report\n",
        "from sklearn.feature_extraction.text import TfidfVectorizer\n",
        "from sklearn.model_selection import train_test_split\n",
        "\n",
        "# Splitting the data into training and testing sets\n",
        "X_train, X_test, y_train, y_test = train_test_split(fakenews_ds['Body_lower'], Y, test_size=0.2, random_state=42)\n",
        "\n",
        "# TF-IDF Vectorization\n",
        "tfidf_vectorizer = TfidfVectorizer(max_features=5000)  # You can adjust the max_features as needed\n",
        "X_train_tfidf = tfidf_vectorizer.fit_transform(X_train)\n",
        "X_test_tfidf = tfidf_vectorizer.transform(X_test)\n",
        "\n",
        "# Creating and training the SVC model\n",
        "svc_model1 = SVC(C=1, kernel='linear', gamma=1)\n",
        "svc_model1.fit(X_train_tfidf, y_train)\n",
        "\n",
        "# Making predictions\n",
        "prediction1 = svc_model1.predict(X_test_tfidf)\n",
        "\n",
        "# Printing classification report\n",
        "print(classification_report(y_test, prediction1, target_names=['Fake', 'True']))\n"
      ],
      "metadata": {
        "colab": {
          "base_uri": "https://localhost:8080/"
        },
        "id": "siaI_CyYLXzs",
        "outputId": "f41143ef-676c-4eac-9a21-05127148430f"
      },
      "execution_count": null,
      "outputs": [
        {
          "output_type": "stream",
          "name": "stdout",
          "text": [
            "              precision    recall  f1-score   support\n",
            "\n",
            "        Fake       0.99      0.99      0.99       450\n",
            "        True       0.98      0.98      0.98       348\n",
            "\n",
            "    accuracy                           0.98       798\n",
            "   macro avg       0.98      0.98      0.98       798\n",
            "weighted avg       0.98      0.98      0.98       798\n",
            "\n"
          ]
        }
      ]
    },
    {
      "cell_type": "markdown",
      "source": [
        "**Confusion Matrix**"
      ],
      "metadata": {
        "id": "l_o-2NWAYGis"
      }
    },
    {
      "cell_type": "code",
      "source": [
        "from sklearn.metrics import confusion_matrix\n",
        "\n",
        "# Calculating the confusion matrix\n",
        "conf_matrix = confusion_matrix(y_test, prediction1)\n",
        "\n",
        "# Print the confusion matrix\n",
        "print(\"Confusion Matrix:\")\n",
        "print(conf_matrix)\n",
        "\n",
        "\n",
        "import matplotlib.pyplot as plt\n",
        "import seaborn as sns\n",
        "\n",
        "# Plot for confusion matrix\n",
        "plt.figure(figsize=(8, 6))\n",
        "sns.heatmap(conf_matrix, annot=True, fmt=\"d\", cmap=\"Blues\", xticklabels=['Fake', 'True'], yticklabels=['Fake', 'True'])\n",
        "plt.xlabel('Predicted Label')\n",
        "plt.ylabel('True Label')\n",
        "plt.title('Confusion Matrix')\n",
        "plt.show()"
      ],
      "metadata": {
        "colab": {
          "base_uri": "https://localhost:8080/",
          "height": 616
        },
        "id": "qtx9egj8LfPN",
        "outputId": "d8f9685e-1918-4726-c231-927b94b08280"
      },
      "execution_count": null,
      "outputs": [
        {
          "output_type": "stream",
          "name": "stdout",
          "text": [
            "Confusion Matrix:\n",
            "[[444   6]\n",
            " [  6 342]]\n"
          ]
        },
        {
          "output_type": "display_data",
          "data": {
            "text/plain": [
              "<Figure size 800x600 with 2 Axes>"
            ],
            "image/png": "[encoded data removed]"
          },
          "metadata": {}
        }
      ]
    },
    {
      "cell_type": "markdown",
      "source": [
        "** LST Model - Model Building and evalution**"
      ],
      "metadata": {
        "id": "L6xGINgnYVq8"
      }
    },
    {
      "cell_type": "code",
      "source": [
        "from tensorflow.keras.models import Sequential\n",
        "from tensorflow.keras.layers import LSTM, Dense, Embedding, SpatialDropout1D\n",
        "from tensorflow.keras.preprocessing.sequence import pad_sequences\n",
        "from sklearn.model_selection import train_test_split\n",
        "from sklearn.metrics import accuracy_score\n",
        "from tensorflow.keras.preprocessing.text import Tokenizer\n",
        "\n",
        "tokenizer = Tokenizer(num_words=5000)\n",
        "tokenizer.fit_on_texts(fakenews_ds['Body_lower'])\n",
        "X_seq = tokenizer.texts_to_sequences(fakenews_ds['Body_lower'])\n",
        "\n",
        "max_len = max(len(seq) for seq in X_seq)\n",
        "X_pad = pad_sequences(X_seq, maxlen=max_len)\n",
        "\n",
        "X_train, X_test, y_train, y_test = train_test_split(X_pad, Y, test_size=0.2, random_state=42)\n",
        "\n",
        "model = Sequential()\n",
        "model.add(Embedding(input_dim=5000, output_dim=128, input_length=max_len))\n",
        "model.add(SpatialDropout1D(0.2))\n",
        "model.add(LSTM(64, dropout=0.2, recurrent_dropout=0.2))\n",
        "model.add(Dense(1, activation='sigmoid'))\n",
        "\n",
        "model.compile(optimizer='adam', loss='binary_crossentropy', metrics=['accuracy'])\n",
        "\n",
        "history = model.fit(X_train, y_train, epochs=3, batch_size=64, validation_data=(X_test, y_test))\n",
        "\n",
        "y_pred = (model.predict(X_test) > 0.5).astype(\"int32\")\n",
        "accuracy = accuracy_score(y_test, y_pred)\n",
        "print(\"Accuracy:\", accuracy)"
      ],
      "metadata": {
        "colab": {
          "base_uri": "https://localhost:8080/"
        },
        "id": "mcZhueVrLs6P",
        "outputId": "6b2168e7-2191-4519-9d2a-007489784a8d"
      },
      "execution_count": null,
      "outputs": [
        {
          "output_type": "stream",
          "name": "stdout",
          "text": [
            "Epoch 1/3\n",
            "50/50 [==============================] - 400s 8s/step - loss: 0.4067 - accuracy: 0.8495 - val_loss: 0.1478 - val_accuracy: 0.9524\n",
            "Epoch 2/3\n",
            "50/50 [==============================] - 393s 8s/step - loss: 0.0637 - accuracy: 0.9834 - val_loss: 0.1117 - val_accuracy: 0.9612\n",
            "Epoch 3/3\n",
            "50/50 [==============================] - 402s 8s/step - loss: 0.0214 - accuracy: 0.9953 - val_loss: 0.0822 - val_accuracy: 0.9762\n",
            "25/25 [==============================] - 15s 586ms/step\n",
            "Accuracy: 0.9761904761904762\n"
          ]
        }
      ]
    }
  ]
}